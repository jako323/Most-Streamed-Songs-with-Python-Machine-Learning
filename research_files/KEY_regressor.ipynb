{
  "nbformat": 4,
  "nbformat_minor": 0,
  "metadata": {
    "colab": {
      "provenance": [],
      "authorship_tag": "ABX9TyOZQLiTflNy9BTI4S/Y7nMy",
      "include_colab_link": true
    },
    "kernelspec": {
      "name": "python3",
      "display_name": "Python 3"
    },
    "language_info": {
      "name": "python"
    }
  },
  "cells": [
    {
      "cell_type": "markdown",
      "metadata": {
        "id": "view-in-github",
        "colab_type": "text"
      },
      "source": [
        "<a href=\"https://colab.research.google.com/github/jako323/Most-Streamed-Songs-with-Python-Machine-Learning/blob/regression_for_bpm/KEY_regressor.ipynb\" target=\"_parent\"><img src=\"https://colab.research.google.com/assets/colab-badge.svg\" alt=\"Open In Colab\"/></a>"
      ]
    },
    {
      "cell_type": "code",
      "execution_count": 5,
      "metadata": {
        "colab": {
          "base_uri": "https://localhost:8080/"
        },
        "id": "nrXf9U0TNwMW",
        "outputId": "d82c7e96-c150-4430-80ec-5b3c58b750a8"
      },
      "outputs": [
        {
          "output_type": "stream",
          "name": "stdout",
          "text": [
            "Drive already mounted at /content/drive; to attempt to forcibly remount, call drive.mount(\"/content/drive\", force_remount=True).\n"
          ]
        }
      ],
      "source": [
        "## parameters  key and bpm have a least 20% infulence over the songs streams\n",
        "# predict key and bpm regargding all the other parameters\n",
        "import pandas as pd\n",
        "import numpy as np\n",
        "from sklearn.metrics import mean_squared_error\n",
        "from sklearn.metrics import accuracy_score\n",
        "from sklearn.model_selection import train_test_split\n",
        "from sklearn.linear_model import LinearRegression\n",
        "import matplotlib.pyplot as plt\n",
        "from sklearn.metrics import mean_squared_error\n",
        "from sklearn.neural_network import MLPRegressor\n",
        "from sklearn.preprocessing import PolynomialFeatures\n",
        "from sklearn.linear_model import LinearRegression\n",
        "from sklearn.metrics import mean_squared_error\n",
        "from sklearn.linear_model import LogisticRegression\n",
        "from sklearn.preprocessing import LabelEncoder\n",
        "from sklearn.preprocessing import StandardScaler\n",
        "from datetime import date\n",
        "\n",
        "from google.colab import drive\n",
        "\n",
        "drive.mount('/content/drive')\n",
        "data = pd.read_csv(\"/content/drive/MyDrive/MAIN_DATASET_spotify2023.csv\")\n",
        "\n",
        "data.head()\n",
        "encoder = LabelEncoder()\n",
        "data[\"key\"] = encoder.fit_transform(data[\"key\"])\n",
        "data[\"mode\"] = encoder.fit_transform(data[\"mode\"])\n",
        "released_day_of_year = []\n",
        "\n",
        "for i in range(len(data.index)):\n",
        "    day_of_year = date(data['released_year'][i],\n",
        "                    data['released_month'][i],\n",
        "                    data['released_day'][i]).timetuple().tm_yday\n",
        "    released_day_of_year.append(day_of_year)\n",
        "\n",
        "# add new series to dataframe\n",
        "data.insert(len(data.columns), \"released_day_of_year\", released_day_of_year, True)\n",
        "\n",
        "data = data[[\"released_day_of_year\", 'key', 'mode', 'danceability_%', 'valence_%', 'energy_%','acousticness_%', 'instrumentalness_%', 'liveness_%', 'speechiness_%']]\n"
      ]
    },
    {
      "cell_type": "code",
      "source": [
        "X = data.drop(\"key\", axis = 1)\n",
        "y = data[\"key\"]\n",
        "\n",
        "X_train, X_help, y_train, y_help = train_test_split(X, y, test_size=0.4, random_state=42)\n",
        "X_val, X_test, y_val, y_test = train_test_split(X_help, y_help, test_size=0.5, random_state=42)\n",
        "\n",
        "val_percent = (len(X_val)/(len(data)))*100\n",
        "test_percent = (len(X_test)/(len(data)))*100\n",
        "train_percent = (len(X_train)/(len(data)))*100\n",
        "print(f\"Percent of Train: {train_percent:.2f} ,Validation:{val_percent:.2f} and Test dataset:{test_percent:.2f} \")\n"
      ],
      "metadata": {
        "colab": {
          "base_uri": "https://localhost:8080/"
        },
        "id": "8nTK2YxaTOOO",
        "outputId": "cf91f815-2437-4540-e8da-727b92f0237c"
      },
      "execution_count": 6,
      "outputs": [
        {
          "output_type": "stream",
          "name": "stdout",
          "text": [
            "Percent of Train: 59.98 ,Validation:19.96 and Test dataset:20.06 \n"
          ]
        }
      ]
    },
    {
      "cell_type": "markdown",
      "source": [
        "LINEAR REGRESSOR"
      ],
      "metadata": {
        "id": "aFO5rIkLTVL1"
      }
    },
    {
      "cell_type": "code",
      "source": [
        "reg = LinearRegression()\n",
        "weights_train = np.ones_like(y_train)\n",
        "np.random.seed(42)\n",
        "random_weights = np.random.rand(len(y_train))\n",
        "\n",
        "reg.fit(X_train, y_train, sample_weight=weights_train)\n",
        "y_pred_train = reg.predict(X_train)\n",
        "y_pred_val = reg.predict(X_val)\n",
        "\n",
        "rmse_train = np.sqrt(np.mean((y_pred_train - y_train)**2))\n",
        "mean_train = mean_squared_error(y_train, y_pred_train)\n",
        "\n",
        "rmse_val = np.sqrt(np.mean((y_pred_val - y_val)**2))\n",
        "mean_val = mean_squared_error(y_val, y_pred_val)\n",
        "\n",
        "print(f\"Rmse_val: {rmse_val}, Mean_val:  {mean_val},\\nRmse_train: {rmse_train}, Mean_train:  {mean_train}\")"
      ],
      "metadata": {
        "colab": {
          "base_uri": "https://localhost:8080/"
        },
        "id": "JL6t0-HoTUMm",
        "outputId": "a7f1b442-811e-4fdb-e099-56b2c0b82647"
      },
      "execution_count": 12,
      "outputs": [
        {
          "output_type": "stream",
          "name": "stdout",
          "text": [
            "Rmse_val: 3.389160239975793, Mean_val:  11.486407132232774,\n",
            "Rmse_train: 3.5408193662010623, Mean_train:  12.537401784064492\n"
          ]
        }
      ]
    },
    {
      "cell_type": "markdown",
      "source": [
        "NEURAL REGRESSOR"
      ],
      "metadata": {
        "id": "1_TfwLxITZid"
      }
    },
    {
      "cell_type": "code",
      "source": [
        "reg = MLPRegressor(hidden_layer_sizes=(5, 6, 5), random_state=50, max_iter=50, solver='sgd')\n",
        "reg.fit(X_train, y_train)\n",
        "y_pred_train = reg.predict(X_train)\n",
        "y_pred_val = reg.predict(X_val)\n",
        "\n",
        "# and then try some customization, for example:\n",
        "#reg = MLPRegressor(hidden_layer_sizes=(15, 10, 5), random_state=1, max_iter=1000, solver='adam')\n",
        "\n",
        "#hidden_layer_sizes=(5, 100, 500) 75% \"sgd\" 81%\n",
        "#max_iter 11 best 83%\n",
        "\n",
        "rmse_train = np.sqrt(np.mean((y_pred_train - y_train)**2))\n",
        "mean_train = mean_squared_error(y_train, y_pred_train)\n",
        "rmse_val = np.sqrt(np.mean((y_pred - y_val)**2))\n",
        "mean_val = mean_squared_error(y_val, y_pred)\n",
        "\n",
        "print(f\"Rmse_val: {rmse_val}, Mean_val:  {mean_val},\\nRmse_train: {rmse_train}, Mean_train:  {mean_train}\")"
      ],
      "metadata": {
        "colab": {
          "base_uri": "https://localhost:8080/"
        },
        "id": "eTddiAorTcVl",
        "outputId": "6e4cc644-b56d-4bb8-d759-525add0133ae"
      },
      "execution_count": 41,
      "outputs": [
        {
          "output_type": "stream",
          "name": "stdout",
          "text": [
            "Rmse_val: 3.5903833977448785, Mean_val:  12.89085294280206,\n",
            "Rmse_train: 3.608979687070966, Mean_train:  13.024734381690847\n"
          ]
        }
      ]
    },
    {
      "cell_type": "markdown",
      "source": [
        "POLYNOMIAL REGRESSOR"
      ],
      "metadata": {
        "id": "nWazqTafTebV"
      }
    },
    {
      "cell_type": "code",
      "source": [
        "# Create polynomial features\n",
        "poly_features = PolynomialFeatures(degree = 2)\n",
        "X_train_poly = poly_features.fit_transform(X_train)\n",
        "X_val_poly = poly_features.fit_transform(X_val)\n",
        "\n",
        "reg = LinearRegression()\n",
        "reg.fit(X_train_poly, y_train)\n",
        "\n",
        "y_pred_train = reg.predict(X_train_poly)\n",
        "y_pred = reg.predict(X_val_poly)\n",
        "\n",
        "rmse_val = np.sqrt(np.mean((y_pred - y_val)**2))\n",
        "mean_val = mean_squared_error(y_val, y_pred)\n",
        "\n",
        "rmse_train = np.sqrt(np.mean((y_pred_train - y_train)**2))\n",
        "mean_train = mean_squared_error(y_train, y_pred_train)\n",
        "\n",
        "print(f\"Rmse_val: {rmse_val}, Mean_val:  {mean_val}\")\n",
        "print(f\"Rmse_train: {rmse_train}, Mean_train:  {mean_train}\")"
      ],
      "metadata": {
        "colab": {
          "base_uri": "https://localhost:8080/"
        },
        "id": "sU4oe7rpThyu",
        "outputId": "569473c2-911f-48cf-c1fd-c1791f56138b"
      },
      "execution_count": 17,
      "outputs": [
        {
          "output_type": "stream",
          "name": "stdout",
          "text": [
            "Rmse_val: 3.5903833977448785, Mean_val:  12.89085294280206\n",
            "Rmse_train: 3.4203317267740907, Mean_train:  11.698669121177433\n"
          ]
        }
      ]
    },
    {
      "cell_type": "markdown",
      "source": [
        "SVM"
      ],
      "metadata": {
        "id": "ODPDCItGYjRs"
      }
    },
    {
      "cell_type": "code",
      "source": [
        "from sklearn import svm\n",
        "\n",
        "reg = svm.SVC(kernel='linear', C = 2, max_iter = 50000 )\n",
        "weights_train = np.ones_like(y_train)\n",
        "np.random.seed(42)\n",
        "random_weights = np.random.rand(len(y_train))\n",
        "\n",
        "reg.fit(X_train, y_train, sample_weight=weights_train)\n",
        "y_pred_train = reg.predict(X_train)\n",
        "y_pred_val = reg.predict(X_val)\n",
        "\n",
        "rmse_train = np.sqrt(np.mean((y_pred_train - y_train)**2))\n",
        "mean_train = mean_squared_error(y_train, y_pred_train)\n",
        "\n",
        "rmse_val = np.sqrt(np.mean((y_pred_val - y_val)**2))\n",
        "mean_val = mean_squared_error(y_val, y_pred_val)\n",
        "\n",
        "print(f\"Rmse_val: {rmse_val}, Mean_val:  {mean_val},\\nRmse_train: {rmse_train}, Mean_train:  {mean_train}\")"
      ],
      "metadata": {
        "colab": {
          "base_uri": "https://localhost:8080/"
        },
        "id": "ixbKbHujYkE8",
        "outputId": "c22561dd-616f-42fd-f861-ed1af6b1a48d"
      },
      "execution_count": 49,
      "outputs": [
        {
          "output_type": "stream",
          "name": "stdout",
          "text": [
            "Rmse_val: 5.146792562772521, Mean_val:  26.489473684210527,\n",
            "Rmse_train: 4.990709407017099, Mean_train:  24.907180385288967\n"
          ]
        },
        {
          "output_type": "stream",
          "name": "stderr",
          "text": [
            "/usr/local/lib/python3.10/dist-packages/sklearn/svm/_base.py:299: ConvergenceWarning: Solver terminated early (max_iter=50000).  Consider pre-processing your data with StandardScaler or MinMaxScaler.\n",
            "  warnings.warn(\n"
          ]
        }
      ]
    }
  ]
}
