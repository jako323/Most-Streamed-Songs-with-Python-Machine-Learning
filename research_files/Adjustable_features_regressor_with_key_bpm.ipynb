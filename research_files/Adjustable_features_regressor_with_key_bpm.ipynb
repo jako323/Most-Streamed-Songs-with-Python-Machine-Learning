{
 "cells": [
  {
   "cell_type": "code",
   "execution_count": 20,
   "id": "680bc155",
   "metadata": {},
   "outputs": [
    {
     "data": {
      "text/html": [
       "<div>\n",
       "<style scoped>\n",
       "    .dataframe tbody tr th:only-of-type {\n",
       "        vertical-align: middle;\n",
       "    }\n",
       "\n",
       "    .dataframe tbody tr th {\n",
       "        vertical-align: top;\n",
       "    }\n",
       "\n",
       "    .dataframe thead th {\n",
       "        text-align: right;\n",
       "    }\n",
       "</style>\n",
       "<table border=\"1\" class=\"dataframe\">\n",
       "  <thead>\n",
       "    <tr style=\"text-align: right;\">\n",
       "      <th></th>\n",
       "      <th>released_day_of_year</th>\n",
       "      <th>streams</th>\n",
       "      <th>bpm</th>\n",
       "      <th>key</th>\n",
       "      <th>mode</th>\n",
       "      <th>danceability_%</th>\n",
       "      <th>valence_%</th>\n",
       "      <th>energy_%</th>\n",
       "      <th>acousticness_%</th>\n",
       "      <th>instrumentalness_%</th>\n",
       "      <th>liveness_%</th>\n",
       "      <th>speechiness_%</th>\n",
       "    </tr>\n",
       "  </thead>\n",
       "  <tbody>\n",
       "    <tr>\n",
       "      <th>0</th>\n",
       "      <td>333</td>\n",
       "      <td>3703.895074</td>\n",
       "      <td>171</td>\n",
       "      <td>3</td>\n",
       "      <td>0</td>\n",
       "      <td>50</td>\n",
       "      <td>38</td>\n",
       "      <td>80</td>\n",
       "      <td>0</td>\n",
       "      <td>0</td>\n",
       "      <td>9</td>\n",
       "      <td>7</td>\n",
       "    </tr>\n",
       "    <tr>\n",
       "      <th>1</th>\n",
       "      <td>6</td>\n",
       "      <td>3562.543890</td>\n",
       "      <td>96</td>\n",
       "      <td>3</td>\n",
       "      <td>1</td>\n",
       "      <td>83</td>\n",
       "      <td>93</td>\n",
       "      <td>65</td>\n",
       "      <td>58</td>\n",
       "      <td>0</td>\n",
       "      <td>9</td>\n",
       "      <td>8</td>\n",
       "    </tr>\n",
       "    <tr>\n",
       "      <th>2</th>\n",
       "      <td>312</td>\n",
       "      <td>2887.241814</td>\n",
       "      <td>110</td>\n",
       "      <td>3</td>\n",
       "      <td>0</td>\n",
       "      <td>50</td>\n",
       "      <td>45</td>\n",
       "      <td>41</td>\n",
       "      <td>75</td>\n",
       "      <td>0</td>\n",
       "      <td>11</td>\n",
       "      <td>3</td>\n",
       "    </tr>\n",
       "    <tr>\n",
       "      <th>3</th>\n",
       "      <td>130</td>\n",
       "      <td>2864.791672</td>\n",
       "      <td>98</td>\n",
       "      <td>8</td>\n",
       "      <td>1</td>\n",
       "      <td>82</td>\n",
       "      <td>54</td>\n",
       "      <td>59</td>\n",
       "      <td>69</td>\n",
       "      <td>0</td>\n",
       "      <td>18</td>\n",
       "      <td>10</td>\n",
       "    </tr>\n",
       "    <tr>\n",
       "      <th>4</th>\n",
       "      <td>282</td>\n",
       "      <td>2808.096550</td>\n",
       "      <td>90</td>\n",
       "      <td>4</td>\n",
       "      <td>0</td>\n",
       "      <td>76</td>\n",
       "      <td>91</td>\n",
       "      <td>50</td>\n",
       "      <td>54</td>\n",
       "      <td>0</td>\n",
       "      <td>7</td>\n",
       "      <td>5</td>\n",
       "    </tr>\n",
       "    <tr>\n",
       "      <th>...</th>\n",
       "      <td>...</td>\n",
       "      <td>...</td>\n",
       "      <td>...</td>\n",
       "      <td>...</td>\n",
       "      <td>...</td>\n",
       "      <td>...</td>\n",
       "      <td>...</td>\n",
       "      <td>...</td>\n",
       "      <td>...</td>\n",
       "      <td>...</td>\n",
       "      <td>...</td>\n",
       "      <td>...</td>\n",
       "    </tr>\n",
       "    <tr>\n",
       "      <th>947</th>\n",
       "      <td>195</td>\n",
       "      <td>14.780425</td>\n",
       "      <td>140</td>\n",
       "      <td>3</td>\n",
       "      <td>0</td>\n",
       "      <td>56</td>\n",
       "      <td>48</td>\n",
       "      <td>73</td>\n",
       "      <td>0</td>\n",
       "      <td>0</td>\n",
       "      <td>35</td>\n",
       "      <td>4</td>\n",
       "    </tr>\n",
       "    <tr>\n",
       "      <th>948</th>\n",
       "      <td>152</td>\n",
       "      <td>11.956641</td>\n",
       "      <td>133</td>\n",
       "      <td>2</td>\n",
       "      <td>1</td>\n",
       "      <td>93</td>\n",
       "      <td>68</td>\n",
       "      <td>65</td>\n",
       "      <td>42</td>\n",
       "      <td>0</td>\n",
       "      <td>12</td>\n",
       "      <td>25</td>\n",
       "    </tr>\n",
       "    <tr>\n",
       "      <th>949</th>\n",
       "      <td>194</td>\n",
       "      <td>11.599388</td>\n",
       "      <td>97</td>\n",
       "      <td>11</td>\n",
       "      <td>0</td>\n",
       "      <td>79</td>\n",
       "      <td>92</td>\n",
       "      <td>89</td>\n",
       "      <td>5</td>\n",
       "      <td>0</td>\n",
       "      <td>6</td>\n",
       "      <td>5</td>\n",
       "    </tr>\n",
       "    <tr>\n",
       "      <th>950</th>\n",
       "      <td>356</td>\n",
       "      <td>1.365184</td>\n",
       "      <td>105</td>\n",
       "      <td>9</td>\n",
       "      <td>0</td>\n",
       "      <td>82</td>\n",
       "      <td>62</td>\n",
       "      <td>74</td>\n",
       "      <td>10</td>\n",
       "      <td>0</td>\n",
       "      <td>33</td>\n",
       "      <td>7</td>\n",
       "    </tr>\n",
       "    <tr>\n",
       "      <th>951</th>\n",
       "      <td>343</td>\n",
       "      <td>0.002762</td>\n",
       "      <td>162</td>\n",
       "      <td>1</td>\n",
       "      <td>0</td>\n",
       "      <td>49</td>\n",
       "      <td>78</td>\n",
       "      <td>64</td>\n",
       "      <td>19</td>\n",
       "      <td>0</td>\n",
       "      <td>11</td>\n",
       "      <td>4</td>\n",
       "    </tr>\n",
       "  </tbody>\n",
       "</table>\n",
       "<p>952 rows × 12 columns</p>\n",
       "</div>"
      ],
      "text/plain": [
       "     released_day_of_year      streams  bpm  key  mode  danceability_%  \\\n",
       "0                     333  3703.895074  171    3     0              50   \n",
       "1                       6  3562.543890   96    3     1              83   \n",
       "2                     312  2887.241814  110    3     0              50   \n",
       "3                     130  2864.791672   98    8     1              82   \n",
       "4                     282  2808.096550   90    4     0              76   \n",
       "..                    ...          ...  ...  ...   ...             ...   \n",
       "947                   195    14.780425  140    3     0              56   \n",
       "948                   152    11.956641  133    2     1              93   \n",
       "949                   194    11.599388   97   11     0              79   \n",
       "950                   356     1.365184  105    9     0              82   \n",
       "951                   343     0.002762  162    1     0              49   \n",
       "\n",
       "     valence_%  energy_%  acousticness_%  instrumentalness_%  liveness_%  \\\n",
       "0           38        80               0                   0           9   \n",
       "1           93        65              58                   0           9   \n",
       "2           45        41              75                   0          11   \n",
       "3           54        59              69                   0          18   \n",
       "4           91        50              54                   0           7   \n",
       "..         ...       ...             ...                 ...         ...   \n",
       "947         48        73               0                   0          35   \n",
       "948         68        65              42                   0          12   \n",
       "949         92        89               5                   0           6   \n",
       "950         62        74              10                   0          33   \n",
       "951         78        64              19                   0          11   \n",
       "\n",
       "     speechiness_%  \n",
       "0                7  \n",
       "1                8  \n",
       "2                3  \n",
       "3               10  \n",
       "4                5  \n",
       "..             ...  \n",
       "947              4  \n",
       "948             25  \n",
       "949              5  \n",
       "950              7  \n",
       "951              4  \n",
       "\n",
       "[952 rows x 12 columns]"
      ]
     },
     "execution_count": 20,
     "metadata": {},
     "output_type": "execute_result"
    }
   ],
   "source": [
    "## parameters  key and bpm have a least 20% infulence over the songs streams\n",
    "# predict key and bpm regargding all the other parameters\n",
    "import pandas as pd\n",
    "import numpy as np\n",
    "from sklearn.metrics import mean_squared_error\n",
    "from sklearn.metrics import accuracy_score\n",
    "from sklearn.model_selection import train_test_split\n",
    "from sklearn.linear_model import LinearRegression\n",
    "import matplotlib.pyplot as plt\n",
    "from sklearn.metrics import mean_squared_error\n",
    "from sklearn.neural_network import MLPRegressor\n",
    "from sklearn.preprocessing import PolynomialFeatures\n",
    "from sklearn.linear_model import LinearRegression\n",
    "from sklearn.metrics import mean_squared_error\n",
    "from sklearn.linear_model import LogisticRegression\n",
    "from sklearn.preprocessing import LabelEncoder\n",
    "from sklearn.preprocessing import StandardScaler\n",
    "from datetime import date\n",
    "from sklearn.model_selection import cross_val_score, cross_validate\n",
    "from sklearn.svm import SVR\n",
    "from sklearn import svm\n",
    "from sklearn.neural_network import MLPClassifier\n",
    "from sklearn.neighbors import KNeighborsClassifier\n",
    "from sklearn import tree\n",
    "from sklearn.model_selection import GridSearchCV\n",
    "from sklearn.model_selection import RandomizedSearchCV\n",
    "from scipy.stats import uniform\n",
    "from sklearn.metrics import mean_absolute_error \n",
    "from sklearn.metrics import r2_score\n",
    "\n",
    "import warnings\n",
    "warnings.filterwarnings(\"ignore\")\n",
    "\n",
    "data = pd.read_csv(\"MAIN_DATASET_spotify2023.csv\")\n",
    "\n",
    "data.head()\n",
    "encoder = LabelEncoder()\n",
    "data[\"key\"] = encoder.fit_transform(data[\"key\"])\n",
    "data[\"mode\"] = encoder.fit_transform(data[\"mode\"])\n",
    "released_day_of_year = []\n",
    "\n",
    "for i in range(len(data.index)):\n",
    "    day_of_year = date(data['released_year'][i],\n",
    "                    data['released_month'][i],\n",
    "                    data['released_day'][i]).timetuple().tm_yday\n",
    "    released_day_of_year.append(day_of_year)\n",
    "\n",
    "# add new series to dataframe\n",
    "data.insert(len(data.columns), \"released_day_of_year\", released_day_of_year, True)\n",
    "\n",
    "data = data[[\"released_day_of_year\", \"streams\",'bpm','key', 'mode', 'danceability_%', 'valence_%', 'energy_%','acousticness_%', 'instrumentalness_%', 'liveness_%', 'speechiness_%']]\n",
    "\n",
    "data[\"streams\"] = data[\"streams\"] / 1000000\n",
    "#data_standarized\n",
    "data\n",
    "\n",
    "#without key and bpm\n",
    "data_sorted = data.sort_values(by = \"streams\", ascending = False).reset_index(drop=True)\n",
    "data_sorted"
   ]
  },
  {
   "cell_type": "code",
   "execution_count": 21,
   "id": "2a50b4a1",
   "metadata": {},
   "outputs": [
    {
     "name": "stdout",
     "output_type": "stream",
     "text": [
      "Percent of Train: 79.94  and Test dataset:20.06 \n"
     ]
    }
   ],
   "source": [
    "X = data.drop(\"streams\", axis = 1)\n",
    "y = data[\"streams\"]\n",
    "\n",
    "#X_train, X_help, y_train, y_help = train_test_split(X, y, test_size=0.4, random_state=42)\n",
    "#X_val, X_test, y_val, y_test = train_test_split(X_help, y_help, test_size=0.5, random_state=42)\n",
    "X_train, X_test, y_train, y_test = train_test_split(X, y, test_size=0.2, random_state=42)\n",
    "\n",
    "\n",
    "#val_percent = (len(X_val)/(len(data)))*100\n",
    "test_percent = (len(X_test)/(len(data)))*100\n",
    "train_percent = (len(X_train)/(len(data)))*100\n",
    "print(f\"Percent of Train: {train_percent:.2f}  and Test dataset:{test_percent:.2f} \")\n"
   ]
  },
  {
   "cell_type": "markdown",
   "id": "478af46f",
   "metadata": {},
   "source": [
    "## Task 1,2"
   ]
  },
  {
   "cell_type": "code",
   "execution_count": 22,
   "id": "46648798",
   "metadata": {},
   "outputs": [
    {
     "name": "stdout",
     "output_type": "stream",
     "text": [
      "mean of 3-folds cross_validation: 584.9942661073587\n",
      "mean of 5-folds cross_validation: 582.5970252460152\n",
      "mean of 10-folds cross_validation: 578.9052630703106\n",
      "\n",
      "Rmse_val: 496.1543157434965, Mean_val:  246169.10503089722\n",
      "Rmse: 573.08553885526, Mean:  328427.0348450237\n"
     ]
    }
   ],
   "source": [
    "reg = LinearRegression()\n",
    "weights_train = np.ones_like(y_train)\n",
    "np.random.seed(42)\n",
    "random_weights = np.random.rand(len(y_train))\n",
    "\n",
    "reg.fit(X_train, y_train, sample_weight=weights_train)\n",
    "y_pred_train = reg.predict(X_train)\n",
    "y_pred = reg.predict(X_test)\n",
    "\n",
    "cv_values = [3,5,10]\n",
    "for k in cv_values:\n",
    "    scores = cross_val_score(reg, X_train, y_train, cv=k, scoring='neg_root_mean_squared_error')\n",
    "    #print(scores)\n",
    "    mean_cross = scores.mean()\n",
    "    # chcek if minus is good for rmse without negative\n",
    "    print(f\"mean of {k}-folds cross_validation: {-mean_cross}\")\n",
    "\n",
    "rmse_val = np.sqrt(np.mean((y_pred - y_test)**2))\n",
    "mean_val = mean_squared_error(y_test, y_pred)\n",
    "\n",
    "rmse = np.sqrt(np.mean((y_pred_train - y_train)**2))\n",
    "mean = mean_squared_error(y_train, y_pred_train)\n",
    "\n",
    "print(f\"\\nRmse_val: {rmse_val}, Mean_val:  {mean_val}\")\n",
    "print(f\"Rmse: {rmse}, Mean:  {mean}\")"
   ]
  },
  {
   "cell_type": "markdown",
   "id": "823a22bb",
   "metadata": {},
   "source": [
    "##  Task3 neural regresor"
   ]
  },
  {
   "cell_type": "code",
   "execution_count": 23,
   "id": "d80e20f7",
   "metadata": {},
   "outputs": [
    {
     "name": "stdout",
     "output_type": "stream",
     "text": [
      "mean of 3-folds cross_validation: 584.8361028214914\n",
      "mean of 5-folds cross_validation: 575.5117674900074\n",
      "mean of 10-folds cross_validation: 566.4983082392245\n",
      "\n",
      "Rmse_val: 514.0296468369364, Mean_val:  264226.47782730556\n",
      "Rmse: 558.7459369300199, Mean:  312197.02203580574\n"
     ]
    }
   ],
   "source": [
    "\n",
    "\n",
    "reg = MLPRegressor(hidden_layer_sizes=(5, 6, 5), random_state=50, max_iter=50, solver='lbfgs')\n",
    "reg.fit(X_train, y_train)\n",
    "y_pred_train = reg.predict(X_train)\n",
    "y_pred = reg.predict(X_test)\n",
    "cv_values = [3,5,10]\n",
    "for k in cv_values:\n",
    "    scores = cross_val_score(reg, X_train, y_train, cv=k, scoring='neg_root_mean_squared_error')\n",
    "    #print(scores)\n",
    "    mean_cross = scores.mean()\n",
    "    # chcek if minus is good for rmse without negative\n",
    "    print(f\"mean of {k}-folds cross_validation: {-mean_cross}\")\n",
    "    \n",
    "rmse_val = np.sqrt(np.mean((y_pred - y_test)**2))\n",
    "mean_val = mean_squared_error(y_test, y_pred)\n",
    "\n",
    "rmse = np.sqrt(np.mean((y_pred_train - y_train)**2))\n",
    "mean = mean_squared_error(y_train, y_pred_train)\n",
    "print(f\"\\nRmse_val: {rmse_val}, Mean_val:  {mean_val}\")\n",
    "print(f\"Rmse: {rmse}, Mean:  {mean}\")"
   ]
  },
  {
   "cell_type": "markdown",
   "id": "ec294116",
   "metadata": {},
   "source": [
    "## Grid Search"
   ]
  },
  {
   "cell_type": "code",
   "execution_count": 24,
   "id": "0f151cee",
   "metadata": {},
   "outputs": [
    {
     "name": "stdout",
     "output_type": "stream",
     "text": [
      "{'hidden_layer_sizes': (5, 5, 10), 'max_iter': 150, 'solver': 'lbfgs'}\n",
      "MLPRegressor(hidden_layer_sizes=(5, 5, 10), max_iter=150, random_state=50,\n",
      "             solver='lbfgs')\n",
      "-572.8492626086979\n"
     ]
    }
   ],
   "source": [
    "reg = MLPRegressor(hidden_layer_sizes=(5, 5), random_state=50, max_iter=50, solver='lbfgs')\n",
    "\n",
    "parameters = {'max_iter' : [50,100,150,400,800],'solver':('lbfgs', 'sgd', 'adam'), 'hidden_layer_sizes':[(10, 5, 5), (5, 10, 5), (5, 5, 10),(5,5), (5,10)]}\n",
    "#parameters = {'solver':('lbfgs', 'sgd', 'adam'),  \"random_state\" :[50]}\n",
    "grid_search = GridSearchCV(reg, parameters, cv=5, scoring='neg_root_mean_squared_error')\n",
    "grid_search.fit(X_train, y_train)\n",
    "print(grid_search.best_params_) # to get the best parameters\n",
    "print(grid_search.best_estimator_)\n",
    "print(grid_search.best_score_)# to get the best estimator\n",
    "#print(grid_search.cv_results_) # to get all results\n",
    "\n"
   ]
  },
  {
   "cell_type": "markdown",
   "id": "822d3fcf",
   "metadata": {},
   "source": [
    "## Random Search"
   ]
  },
  {
   "cell_type": "code",
   "execution_count": 25,
   "id": "33c36150",
   "metadata": {},
   "outputs": [
    {
     "name": "stdout",
     "output_type": "stream",
     "text": [
      "{'alpha': 3.0138168803582195, 'power_t': 4.359065463975175}\n",
      "MLPRegressor(alpha=3.0138168803582195, hidden_layer_sizes=5, max_iter=150,\n",
      "             power_t=4.359065463975175, solver='lbfgs')\n",
      "-579.5220691054335\n"
     ]
    }
   ],
   "source": [
    "logistic = MLPRegressor(hidden_layer_sizes=(5, 5, 10), max_iter=150, random_state=50,\n",
    "             solver='lbfgs')\n",
    "distributions = dict(alpha=uniform(loc=0, scale=5), power_t =uniform(loc=0, scale=8))\n",
    "Random_search = RandomizedSearchCV(logistic, distributions, random_state=0, scoring='neg_root_mean_squared_error')\n",
    "Random_search.fit(X_train, y_train)\n",
    "print(Random_search.best_params_) # to get the best parameters\n",
    "print(Random_search.best_estimator_)\n",
    "print(Random_search.best_score_)"
   ]
  },
  {
   "cell_type": "code",
   "execution_count": 26,
   "id": "a9644f87",
   "metadata": {},
   "outputs": [
    {
     "name": "stdout",
     "output_type": "stream",
     "text": [
      "\n",
      "Rmse_val: 514.1482537432054, Mean_val:  264348.42682718753\n",
      "\n",
      "Mean Absolute Error: 377.11464295477646\n",
      "\n",
      "R2: -0.07988641544262953\n"
     ]
    }
   ],
   "source": [
    "reg = MLPRegressor(alpha=11.68863010829902, hidden_layer_sizes=(5, 5, 10),\n",
    "             max_iter=50, random_state=50, solver='lbfgs')\n",
    "reg.fit(X_train, y_train)\n",
    "\n",
    "y_pred_train = reg.predict(X_train)\n",
    "y_pred = reg.predict(X_test)\n",
    "\n",
    "rmse_val = np.sqrt(np.mean((y_pred - y_test)**2))\n",
    "mean_val = mean_squared_error(y_test, y_pred)\n",
    "\n",
    "rmse = np.sqrt(np.mean((y_pred_train - y_train)**2))\n",
    "mean = mean_squared_error(y_train, y_pred_train)\n",
    "print(f\"\\nRmse_val: {rmse_val}, Mean_val:  {mean_val}\")\n",
    "mae = mean_absolute_error(y_test, y_pred)\n",
    "print(\"\\nMean Absolute Error:\", mae)\n",
    "\n",
    "r2 = r2_score(y_test, y_pred)\n",
    "print(\"\\nR2:\", r2)\n"
   ]
  },
  {
   "cell_type": "markdown",
   "id": "6f3e3f23",
   "metadata": {},
   "source": [
    "## Task 4  Polynomial reggresor"
   ]
  },
  {
   "cell_type": "code",
   "execution_count": 27,
   "id": "e7ff166b",
   "metadata": {},
   "outputs": [
    {
     "name": "stdout",
     "output_type": "stream",
     "text": [
      "mean of 3-folds cross_validation: 584.9942661073587\n",
      "mean of 5-folds cross_validation: 582.5970252460152\n",
      "mean of 10-folds cross_validation: 578.9052630703106\n",
      "\n",
      "r2: -0.008666235823097067\n",
      "mean_abs_error: -426.6661870140626\n",
      "\n",
      "Rmse_val: 541.3263797398429, Mean_val:  293034.2494022446\n",
      "Rmse: 549.3389294854476, Mean:  301773.2594482175\n"
     ]
    }
   ],
   "source": [
    "# Create polynomial features\n",
    "poly_features = PolynomialFeatures(degree = 2)# poziom najlepszy\n",
    "X_train_poly = poly_features.fit_transform(X_train)\n",
    "X_val_poly = poly_features.fit_transform(X_test)\n",
    "\n",
    "reg = LinearRegression()\n",
    "reg.fit(X_train_poly, y_train)\n",
    "\n",
    "y_pred_train = reg.predict(X_train_poly)\n",
    "y_pred = reg.predict(X_val_poly)\n",
    "\n",
    "rmse_val = np.sqrt(np.mean((y_pred - y_test)**2))\n",
    "mean_val = mean_squared_error(y_test, y_pred)\n",
    "\n",
    "cv_values = [3,5,10]\n",
    "for k in cv_values:\n",
    "    scores_val_score = cross_val_score(reg, X_train, y_train, cv=k, scoring='neg_root_mean_squared_error')\n",
    "    #print(scores)\n",
    "    mean_cross = scores_val_score.mean()\n",
    "    # chcek if minus is good for rmse without negative\n",
    "    print(f\"mean of {k}-folds cross_validation: {-mean_cross}\")\n",
    "\n",
    "    \n",
    "scores = cross_validate(reg, X_train, y_train, cv=5,scoring=['r2','neg_mean_absolute_error'])\n",
    "print(f\"\\nr2: {scores['test_r2'].mean()}\")\n",
    "print(f\"mean_abs_error: {scores['test_neg_mean_absolute_error'].mean()}\")\n",
    "#print(scores['fit_time'])\n",
    "#print(scores['score_time'])\n",
    "\n",
    "\n",
    "rmse = np.sqrt(np.mean((y_pred_train - y_train)**2))\n",
    "mean = mean_squared_error(y_train, y_pred_train)\n",
    "\n",
    "print(f\"\\nRmse_val: {rmse_val}, Mean_val:  {mean_val}\")\n",
    "print(f\"Rmse: {rmse}, Mean:  {mean}\")\n"
   ]
  },
  {
   "cell_type": "markdown",
   "id": "bf481641",
   "metadata": {},
   "source": [
    "## SVM "
   ]
  },
  {
   "cell_type": "code",
   "execution_count": 28,
   "id": "201ac119",
   "metadata": {},
   "outputs": [
    {
     "name": "stdout",
     "output_type": "stream",
     "text": [
      "mean of 3-folds cross_validation rmse: 604.5484918822654\n",
      "mean of 5-folds cross_validation rmse: 625.566839161995\n",
      "mean of 10-folds cross_validation rmse: 638.0284910642238\n",
      "\n",
      "r2: -0.17409509091080017\n",
      "mean_abs_error: -531.5771023155182\n",
      "\n",
      "Rmse_val: 599.073036689792, Mean_val:  358888.5032887289\n",
      "Rmse: 648.3584370069236, Mean:  420368.662838061\n",
      "\n",
      "Mean Absolute Error: 536.4694661659049\n"
     ]
    }
   ],
   "source": [
    "\n",
    "# Kernels: {‘linear’, ‘poly’, ‘rbf’, ‘sigmoid’, ‘precomputed’} \n",
    "#linear the best but the longest so most complicated\n",
    "\n",
    "reg = SVR(C=2, epsilon=0.2, kernel='poly', max_iter=50)\n",
    "reg.fit(X_train, y_train)\n",
    "\n",
    "y_pred_train = reg.predict(X_train)\n",
    "y_pred = reg.predict(X_test)\n",
    "\n",
    "rmse_val = np.sqrt(np.mean((y_pred - y_test)**2))\n",
    "mean_val = mean_squared_error(y_test, y_pred)\n",
    "\n",
    "cv_values = [3,5,10]\n",
    "for k in cv_values:\n",
    "    scores_val_score = cross_val_score(reg, X_train, y_train, cv=k, scoring='neg_root_mean_squared_error')\n",
    "    #print(scores)\n",
    "    mean_cross = scores_val_score.mean()\n",
    "    # chcek if minus is good for rmse without negative\n",
    "    print(f\"mean of {k}-folds cross_validation rmse: {-mean_cross}\")\n",
    "\n",
    "scores = cross_validate(reg, X_train, y_train, cv=5,scoring=['r2','neg_mean_absolute_error'])\n",
    "\n",
    "print(f\"\\nr2: {scores['test_r2'].mean()}\")\n",
    "print(f\"mean_abs_error: {scores['test_neg_mean_absolute_error'].mean()}\")\n",
    "\n",
    "\n",
    "\n",
    "rmse = np.sqrt(np.mean((y_pred_train - y_train)**2))\n",
    "mean = mean_squared_error(y_train, y_pred_train)\n",
    "\n",
    "print(f\"\\nRmse_val: {rmse_val}, Mean_val:  {mean_val}\")\n",
    "print(f\"Rmse: {rmse}, Mean:  {mean}\")\n",
    "\n",
    "mae = mean_absolute_error(y_test, y_pred)\n",
    "print(\"\\nMean Absolute Error:\", mae)\n",
    "\n"
   ]
  },
  {
   "cell_type": "code",
   "execution_count": 29,
   "id": "c0979855",
   "metadata": {},
   "outputs": [
    {
     "name": "stdout",
     "output_type": "stream",
     "text": [
      "{'kernel': 'sigmoid', 'max_iter': 100}\n",
      "SVR(epsilon=0.2, kernel='sigmoid', max_iter=100)\n",
      "-581.9785368065966\n"
     ]
    }
   ],
   "source": [
    "#GridSearch\n",
    "reg = SVR( epsilon=0.2)\n",
    "parameters = {'max_iter' : [50,100,150,400,800],'kernel':('linear', 'poly', 'rbf', 'sigmoid')}\n",
    "#parameters = {'solver':('lbfgs', 'sgd', 'adam'),  \"random_state\" :[50]}\n",
    "grid_search = GridSearchCV(reg, parameters, cv=5, scoring='neg_root_mean_squared_error')\n",
    "grid_search.fit(X_train, y_train)\n",
    "\n",
    "print(grid_search.best_params_) # to get the best parameters\n",
    "print(grid_search.best_estimator_)\n",
    "print(grid_search.best_score_)# to get the best estimator\n",
    "#print(grid_search.cv_results_) # to get all results\n"
   ]
  },
  {
   "cell_type": "code",
   "execution_count": 30,
   "id": "f86853c8",
   "metadata": {},
   "outputs": [
    {
     "name": "stdout",
     "output_type": "stream",
     "text": [
      "{'C': 2.7440675196366238, 'gamma': 3.5759468318620975}\n",
      "SVR(C=2.7440675196366238, epsilon=0.2, gamma=3.5759468318620975,\n",
      "    kernel='sigmoid', max_iter=100)\n",
      "-582.2922071052292\n"
     ]
    }
   ],
   "source": [
    "#RandomSearch\n",
    "logistic = SVR(epsilon=0.2, kernel='sigmoid', max_iter=100)\n",
    "\n",
    "distributions = dict(C=uniform(loc=0, scale=5), gamma = uniform(loc=0, scale=5))\n",
    "Random_search = RandomizedSearchCV(logistic, distributions, random_state=0, scoring='neg_root_mean_squared_error')\n",
    "Random_search.fit(X_train, y_train)\n",
    "print(Random_search.best_params_) # to get the best parameters\n",
    "print(Random_search.best_estimator_)\n",
    "print(Random_search.best_score_)"
   ]
  },
  {
   "cell_type": "code",
   "execution_count": 31,
   "id": "923f2064",
   "metadata": {},
   "outputs": [],
   "source": [
    "from sklearn.model_selection import GridSearchCV\n",
    "X_train, X_help, y_train, y_help = train_test_split(X, y, test_size=0.2, random_state=42)"
   ]
  },
  {
   "cell_type": "markdown",
   "id": "4f1dcd76",
   "metadata": {},
   "source": [
    "## SVM model with best  parameters"
   ]
  },
  {
   "cell_type": "code",
   "execution_count": 32,
   "id": "fd9e2bb2",
   "metadata": {},
   "outputs": [
    {
     "name": "stdout",
     "output_type": "stream",
     "text": [
      "\n",
      "Rmse_val: 599.073036689792, Mean_val:  358888.5032887289\n",
      "\n",
      "Mean Absolute Error: 536.4694661659049\n",
      "\n",
      "R2: -0.4660908862279498\n"
     ]
    }
   ],
   "source": [
    "reg = SVR(C=2, epsilon=0.2, kernel='poly', max_iter=50)\n",
    "reg.fit(X_train, y_train)\n",
    "\n",
    "y_pred_train = reg.predict(X_train)\n",
    "y_pred = reg.predict(X_test)\n",
    "\n",
    "\n",
    "rmse_val = np.sqrt(np.mean((y_pred - y_test)**2))\n",
    "mean_val = mean_squared_error(y_test, y_pred)\n",
    "\n",
    "print(f\"\\nRmse_val: {rmse_val}, Mean_val:  {mean_val}\")\n",
    "\n",
    "mae = mean_absolute_error(y_test, y_pred)\n",
    "print(\"\\nMean Absolute Error:\", mae)\n",
    "\n",
    "r2 = r2_score(y_test, y_pred)\n",
    "print(\"\\nR2:\", r2)"
   ]
  },
  {
   "cell_type": "markdown",
   "id": "1cdf4a18",
   "metadata": {},
   "source": [
    "## Linear Regression"
   ]
  },
  {
   "cell_type": "code",
   "execution_count": 33,
   "id": "c9df5bbc",
   "metadata": {},
   "outputs": [
    {
     "name": "stdout",
     "output_type": "stream",
     "text": [
      "Rmse val: 496.1543157434965, Mean squared error val:  246169.10503089722\n",
      "Rmse: 573.08553885526, Mean squared error train:  328427.0348450237\n",
      "\n",
      "Mean Absolute Error: 377.2257781406536\n",
      "\n",
      "R2: -0.005622297870983006\n"
     ]
    }
   ],
   "source": [
    "reg = LinearRegression()\n",
    "weights_train = np.ones_like(y_train)\n",
    "np.random.seed(42)\n",
    "\n",
    "reg.fit(X_train, y_train, sample_weight=weights_train)\n",
    "y_pred_train = reg.predict(X_train)\n",
    "y_pred = reg.predict(X_test)\n",
    "\n",
    "rmse = np.sqrt(np.mean((y_pred - y_test)**2))\n",
    "mean = mean_squared_error(y_test, y_pred)\n",
    "print(f\"Rmse val: {rmse}, Mean squared error val:  {mean}\")\n",
    "\n",
    "rmse = np.sqrt(np.mean((y_pred_train - y_train)**2))\n",
    "mean = mean_squared_error(y_train, y_pred_train)\n",
    "print(f\"Rmse: {rmse}, Mean squared error train:  {mean}\")\n",
    "\n",
    "mae = mean_absolute_error(y_test, y_pred)\n",
    "print(\"\\nMean Absolute Error:\", mae)\n",
    "\n",
    "r2 = r2_score(y_test, y_pred)\n",
    "print(\"\\nR2:\", r2)"
   ]
  },
  {
   "cell_type": "markdown",
   "id": "5b1c3cee",
   "metadata": {},
   "source": [
    "# Final Assessment of the model"
   ]
  },
  {
   "cell_type": "code",
   "execution_count": 35,
   "id": "44b4bd3d",
   "metadata": {},
   "outputs": [
    {
     "data": {
      "text/plain": [
       "<sklearn.metrics._plot.regression.PredictionErrorDisplay at 0x246c7332640>"
      ]
     },
     "execution_count": 35,
     "metadata": {},
     "output_type": "execute_result"
    },
    {
     "data": {
      "image/png": "[encoded data removed]",
      "text/plain": [
       "<Figure size 640x480 with 1 Axes>"
      ]
     },
     "metadata": {},
     "output_type": "display_data"
    },
    {
     "data": {
      "image/png": "[encoded data removed]",
      "text/plain": [
       "<Figure size 640x480 with 1 Axes>"
      ]
     },
     "metadata": {},
     "output_type": "display_data"
    }
   ],
   "source": [
    "from sklearn.metrics import PredictionErrorDisplay\n",
    "from sklearn.metrics import confusion_matrix\n",
    "PredictionErrorDisplay.from_estimator(reg, X_test, y_test,\n",
    "kind=\"residual_vs_predicted\")\n",
    "plt.ylim([-1500, 3000])\n",
    "plt.xlim([0, 1500])\n",
    "PredictionErrorDisplay.from_predictions(y_true=y_test, y_pred=y_pred,\n",
    "kind=\"actual_vs_predicted\")\n"
   ]
  }
 ],
 "metadata": {
  "kernelspec": {
   "display_name": "Python 3 (ipykernel)",
   "language": "python",
   "name": "python3"
  },
  "language_info": {
   "codemirror_mode": {
    "name": "ipython",
    "version": 3
   },
   "file_extension": ".py",
   "mimetype": "text/x-python",
   "name": "python",
   "nbconvert_exporter": "python",
   "pygments_lexer": "ipython3",
   "version": "3.9.16"
  }
 },
 "nbformat": 4,
 "nbformat_minor": 5
}
