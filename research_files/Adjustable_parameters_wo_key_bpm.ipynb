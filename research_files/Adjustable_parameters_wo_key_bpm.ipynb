{
  "cells": [
    {
      "cell_type": "code",
      "execution_count": 7,
      "metadata": {
        "colab": {
          "base_uri": "https://localhost:8080/",
          "height": 439
        },
        "id": "etonRK3oMjaF",
        "outputId": "c5c249f2-6ddd-470e-8ed4-87e3925d7d2e"
      },
      "outputs": [
        {
          "output_type": "execute_result",
          "data": {
            "text/plain": [
              "     released_day_of_year     streams  bpm  key  mode  danceability_%  \\\n",
              "0                     195  141.381703  125    2     0              80   \n",
              "1                      82  133.716286   92    3     0              71   \n",
              "2                     181  140.003974  138    7     0              51   \n",
              "3                     235  800.840817  170    0     0              55   \n",
              "4                     138  303.236322  144    0     1              65   \n",
              "..                    ...         ...  ...  ...   ...             ...   \n",
              "947                   307   91.473363  144    0     0              60   \n",
              "948                   294  121.871870  166    8     0              42   \n",
              "949                   307   73.513683   92    3     0              80   \n",
              "950                   293  133.895612   97    3     0              82   \n",
              "951                   308   96.007391   90    6     1              61   \n",
              "\n",
              "     valence_%  energy_%  acousticness_%  instrumentalness_%  liveness_%  \\\n",
              "0           89        83              31                   0           8   \n",
              "1           61        74               7                   0          10   \n",
              "2           32        53              17                   0          31   \n",
              "3           58        72              11                   0          11   \n",
              "4           23        80              14                  63          11   \n",
              "..         ...       ...             ...                 ...         ...   \n",
              "947         24        39              57                   0           8   \n",
              "948          7        24              83                   1          12   \n",
              "949         81        67               4                   0           8   \n",
              "950         67        77               8                   0          12   \n",
              "951         32        67              15                   0          11   \n",
              "\n",
              "     speechiness_%  \n",
              "0                4  \n",
              "1                4  \n",
              "2                6  \n",
              "3               15  \n",
              "4                6  \n",
              "..             ...  \n",
              "947              3  \n",
              "948              6  \n",
              "949              6  \n",
              "950              5  \n",
              "951              5  \n",
              "\n",
              "[952 rows x 12 columns]"
            ],
            "text/html": [
              "\n",
              "  <div id=\"df-5244a53b-8ea2-4c40-b445-42ee1cd2f081\" class=\"colab-df-container\">\n",
              "    <div>\n",
              "<style scoped>\n",
              "    .dataframe tbody tr th:only-of-type {\n",
              "        vertical-align: middle;\n",
              "    }\n",
              "\n",
              "    .dataframe tbody tr th {\n",
              "        vertical-align: top;\n",
              "    }\n",
              "\n",
              "    .dataframe thead th {\n",
              "        text-align: right;\n",
              "    }\n",
              "</style>\n",
              "<table border=\"1\" class=\"dataframe\">\n",
              "  <thead>\n",
              "    <tr style=\"text-align: right;\">\n",
              "      <th></th>\n",
              "      <th>released_day_of_year</th>\n",
              "      <th>streams</th>\n",
              "      <th>bpm</th>\n",
              "      <th>key</th>\n",
              "      <th>mode</th>\n",
              "      <th>danceability_%</th>\n",
              "      <th>valence_%</th>\n",
              "      <th>energy_%</th>\n",
              "      <th>acousticness_%</th>\n",
              "      <th>instrumentalness_%</th>\n",
              "      <th>liveness_%</th>\n",
              "      <th>speechiness_%</th>\n",
              "    </tr>\n",
              "  </thead>\n",
              "  <tbody>\n",
              "    <tr>\n",
              "      <th>0</th>\n",
              "      <td>195</td>\n",
              "      <td>141.381703</td>\n",
              "      <td>125</td>\n",
              "      <td>2</td>\n",
              "      <td>0</td>\n",
              "      <td>80</td>\n",
              "      <td>89</td>\n",
              "      <td>83</td>\n",
              "      <td>31</td>\n",
              "      <td>0</td>\n",
              "      <td>8</td>\n",
              "      <td>4</td>\n",
              "    </tr>\n",
              "    <tr>\n",
              "      <th>1</th>\n",
              "      <td>82</td>\n",
              "      <td>133.716286</td>\n",
              "      <td>92</td>\n",
              "      <td>3</td>\n",
              "      <td>0</td>\n",
              "      <td>71</td>\n",
              "      <td>61</td>\n",
              "      <td>74</td>\n",
              "      <td>7</td>\n",
              "      <td>0</td>\n",
              "      <td>10</td>\n",
              "      <td>4</td>\n",
              "    </tr>\n",
              "    <tr>\n",
              "      <th>2</th>\n",
              "      <td>181</td>\n",
              "      <td>140.003974</td>\n",
              "      <td>138</td>\n",
              "      <td>7</td>\n",
              "      <td>0</td>\n",
              "      <td>51</td>\n",
              "      <td>32</td>\n",
              "      <td>53</td>\n",
              "      <td>17</td>\n",
              "      <td>0</td>\n",
              "      <td>31</td>\n",
              "      <td>6</td>\n",
              "    </tr>\n",
              "    <tr>\n",
              "      <th>3</th>\n",
              "      <td>235</td>\n",
              "      <td>800.840817</td>\n",
              "      <td>170</td>\n",
              "      <td>0</td>\n",
              "      <td>0</td>\n",
              "      <td>55</td>\n",
              "      <td>58</td>\n",
              "      <td>72</td>\n",
              "      <td>11</td>\n",
              "      <td>0</td>\n",
              "      <td>11</td>\n",
              "      <td>15</td>\n",
              "    </tr>\n",
              "    <tr>\n",
              "      <th>4</th>\n",
              "      <td>138</td>\n",
              "      <td>303.236322</td>\n",
              "      <td>144</td>\n",
              "      <td>0</td>\n",
              "      <td>1</td>\n",
              "      <td>65</td>\n",
              "      <td>23</td>\n",
              "      <td>80</td>\n",
              "      <td>14</td>\n",
              "      <td>63</td>\n",
              "      <td>11</td>\n",
              "      <td>6</td>\n",
              "    </tr>\n",
              "    <tr>\n",
              "      <th>...</th>\n",
              "      <td>...</td>\n",
              "      <td>...</td>\n",
              "      <td>...</td>\n",
              "      <td>...</td>\n",
              "      <td>...</td>\n",
              "      <td>...</td>\n",
              "      <td>...</td>\n",
              "      <td>...</td>\n",
              "      <td>...</td>\n",
              "      <td>...</td>\n",
              "      <td>...</td>\n",
              "      <td>...</td>\n",
              "    </tr>\n",
              "    <tr>\n",
              "      <th>947</th>\n",
              "      <td>307</td>\n",
              "      <td>91.473363</td>\n",
              "      <td>144</td>\n",
              "      <td>0</td>\n",
              "      <td>0</td>\n",
              "      <td>60</td>\n",
              "      <td>24</td>\n",
              "      <td>39</td>\n",
              "      <td>57</td>\n",
              "      <td>0</td>\n",
              "      <td>8</td>\n",
              "      <td>3</td>\n",
              "    </tr>\n",
              "    <tr>\n",
              "      <th>948</th>\n",
              "      <td>294</td>\n",
              "      <td>121.871870</td>\n",
              "      <td>166</td>\n",
              "      <td>8</td>\n",
              "      <td>0</td>\n",
              "      <td>42</td>\n",
              "      <td>7</td>\n",
              "      <td>24</td>\n",
              "      <td>83</td>\n",
              "      <td>1</td>\n",
              "      <td>12</td>\n",
              "      <td>6</td>\n",
              "    </tr>\n",
              "    <tr>\n",
              "      <th>949</th>\n",
              "      <td>307</td>\n",
              "      <td>73.513683</td>\n",
              "      <td>92</td>\n",
              "      <td>3</td>\n",
              "      <td>0</td>\n",
              "      <td>80</td>\n",
              "      <td>81</td>\n",
              "      <td>67</td>\n",
              "      <td>4</td>\n",
              "      <td>0</td>\n",
              "      <td>8</td>\n",
              "      <td>6</td>\n",
              "    </tr>\n",
              "    <tr>\n",
              "      <th>950</th>\n",
              "      <td>293</td>\n",
              "      <td>133.895612</td>\n",
              "      <td>97</td>\n",
              "      <td>3</td>\n",
              "      <td>0</td>\n",
              "      <td>82</td>\n",
              "      <td>67</td>\n",
              "      <td>77</td>\n",
              "      <td>8</td>\n",
              "      <td>0</td>\n",
              "      <td>12</td>\n",
              "      <td>5</td>\n",
              "    </tr>\n",
              "    <tr>\n",
              "      <th>951</th>\n",
              "      <td>308</td>\n",
              "      <td>96.007391</td>\n",
              "      <td>90</td>\n",
              "      <td>6</td>\n",
              "      <td>1</td>\n",
              "      <td>61</td>\n",
              "      <td>32</td>\n",
              "      <td>67</td>\n",
              "      <td>15</td>\n",
              "      <td>0</td>\n",
              "      <td>11</td>\n",
              "      <td>5</td>\n",
              "    </tr>\n",
              "  </tbody>\n",
              "</table>\n",
              "<p>952 rows × 12 columns</p>\n",
              "</div>\n",
              "    <div class=\"colab-df-buttons\">\n",
              "\n",
              "  <div class=\"colab-df-container\">\n",
              "    <button class=\"colab-df-convert\" onclick=\"convertToInteractive('df-5244a53b-8ea2-4c40-b445-42ee1cd2f081')\"\n",
              "            title=\"Convert this dataframe to an interactive table.\"\n",
              "            style=\"display:none;\">\n",
              "\n",
              "  <svg xmlns=\"http://www.w3.org/2000/svg\" height=\"24px\" viewBox=\"0 -960 960 960\">\n",
              "    <path d=\"M120-120v-720h720v720H120Zm60-500h600v-160H180v160Zm220 220h160v-160H400v160Zm0 220h160v-160H400v160ZM180-400h160v-160H180v160Zm440 0h160v-160H620v160ZM180-180h160v-160H180v160Zm440 0h160v-160H620v160Z\"/>\n",
              "  </svg>\n",
              "    </button>\n",
              "\n",
              "  <style>\n",
              "    .colab-df-container {\n",
              "      display:flex;\n",
              "      gap: 12px;\n",
              "    }\n",
              "\n",
              "    .colab-df-convert {\n",
              "      background-color: #E8F0FE;\n",
              "      border: none;\n",
              "      border-radius: 50%;\n",
              "      cursor: pointer;\n",
              "      display: none;\n",
              "      fill: #1967D2;\n",
              "      height: 32px;\n",
              "      padding: 0 0 0 0;\n",
              "      width: 32px;\n",
              "    }\n",
              "\n",
              "    .colab-df-convert:hover {\n",
              "      background-color: #E2EBFA;\n",
              "      box-shadow: 0px 1px 2px rgba(60, 64, 67, 0.3), 0px 1px 3px 1px rgba(60, 64, 67, 0.15);\n",
              "      fill: #174EA6;\n",
              "    }\n",
              "\n",
              "    .colab-df-buttons div {\n",
              "      margin-bottom: 4px;\n",
              "    }\n",
              "\n",
              "    [theme=dark] .colab-df-convert {\n",
              "      background-color: #3B4455;\n",
              "      fill: #D2E3FC;\n",
              "    }\n",
              "\n",
              "    [theme=dark] .colab-df-convert:hover {\n",
              "      background-color: #434B5C;\n",
              "      box-shadow: 0px 1px 3px 1px rgba(0, 0, 0, 0.15);\n",
              "      filter: drop-shadow(0px 1px 2px rgba(0, 0, 0, 0.3));\n",
              "      fill: #FFFFFF;\n",
              "    }\n",
              "  </style>\n",
              "\n",
              "    <script>\n",
              "      const buttonEl =\n",
              "        document.querySelector('#df-5244a53b-8ea2-4c40-b445-42ee1cd2f081 button.colab-df-convert');\n",
              "      buttonEl.style.display =\n",
              "        google.colab.kernel.accessAllowed ? 'block' : 'none';\n",
              "\n",
              "      async function convertToInteractive(key) {\n",
              "        const element = document.querySelector('#df-5244a53b-8ea2-4c40-b445-42ee1cd2f081');\n",
              "        const dataTable =\n",
              "          await google.colab.kernel.invokeFunction('convertToInteractive',\n",
              "                                                    [key], {});\n",
              "        if (!dataTable) return;\n",
              "\n",
              "        const docLinkHtml = 'Like what you see? Visit the ' +\n",
              "          '<a target=\"_blank\" href=https://colab.research.google.com/notebooks/data_table.ipynb>data table notebook</a>'\n",
              "          + ' to learn more about interactive tables.';\n",
              "        element.innerHTML = '';\n",
              "        dataTable['output_type'] = 'display_data';\n",
              "        await google.colab.output.renderOutput(dataTable, element);\n",
              "        const docLink = document.createElement('div');\n",
              "        docLink.innerHTML = docLinkHtml;\n",
              "        element.appendChild(docLink);\n",
              "      }\n",
              "    </script>\n",
              "  </div>\n",
              "\n",
              "\n",
              "<div id=\"df-4b11799c-6e6d-4f9b-900c-df35eca4e329\">\n",
              "  <button class=\"colab-df-quickchart\" onclick=\"quickchart('df-4b11799c-6e6d-4f9b-900c-df35eca4e329')\"\n",
              "            title=\"Suggest charts\"\n",
              "            style=\"display:none;\">\n",
              "\n",
              "<svg xmlns=\"http://www.w3.org/2000/svg\" height=\"24px\"viewBox=\"0 0 24 24\"\n",
              "     width=\"24px\">\n",
              "    <g>\n",
              "        <path d=\"M19 3H5c-1.1 0-2 .9-2 2v14c0 1.1.9 2 2 2h14c1.1 0 2-.9 2-2V5c0-1.1-.9-2-2-2zM9 17H7v-7h2v7zm4 0h-2V7h2v10zm4 0h-2v-4h2v4z\"/>\n",
              "    </g>\n",
              "</svg>\n",
              "  </button>\n",
              "\n",
              "<style>\n",
              "  .colab-df-quickchart {\n",
              "      --bg-color: #E8F0FE;\n",
              "      --fill-color: #1967D2;\n",
              "      --hover-bg-color: #E2EBFA;\n",
              "      --hover-fill-color: #174EA6;\n",
              "      --disabled-fill-color: #AAA;\n",
              "      --disabled-bg-color: #DDD;\n",
              "  }\n",
              "\n",
              "  [theme=dark] .colab-df-quickchart {\n",
              "      --bg-color: #3B4455;\n",
              "      --fill-color: #D2E3FC;\n",
              "      --hover-bg-color: #434B5C;\n",
              "      --hover-fill-color: #FFFFFF;\n",
              "      --disabled-bg-color: #3B4455;\n",
              "      --disabled-fill-color: #666;\n",
              "  }\n",
              "\n",
              "  .colab-df-quickchart {\n",
              "    background-color: var(--bg-color);\n",
              "    border: none;\n",
              "    border-radius: 50%;\n",
              "    cursor: pointer;\n",
              "    display: none;\n",
              "    fill: var(--fill-color);\n",
              "    height: 32px;\n",
              "    padding: 0;\n",
              "    width: 32px;\n",
              "  }\n",
              "\n",
              "  .colab-df-quickchart:hover {\n",
              "    background-color: var(--hover-bg-color);\n",
              "    box-shadow: 0 1px 2px rgba(60, 64, 67, 0.3), 0 1px 3px 1px rgba(60, 64, 67, 0.15);\n",
              "    fill: var(--button-hover-fill-color);\n",
              "  }\n",
              "\n",
              "  .colab-df-quickchart-complete:disabled,\n",
              "  .colab-df-quickchart-complete:disabled:hover {\n",
              "    background-color: var(--disabled-bg-color);\n",
              "    fill: var(--disabled-fill-color);\n",
              "    box-shadow: none;\n",
              "  }\n",
              "\n",
              "  .colab-df-spinner {\n",
              "    border: 2px solid var(--fill-color);\n",
              "    border-color: transparent;\n",
              "    border-bottom-color: var(--fill-color);\n",
              "    animation:\n",
              "      spin 1s steps(1) infinite;\n",
              "  }\n",
              "\n",
              "  @keyframes spin {\n",
              "    0% {\n",
              "      border-color: transparent;\n",
              "      border-bottom-color: var(--fill-color);\n",
              "      border-left-color: var(--fill-color);\n",
              "    }\n",
              "    20% {\n",
              "      border-color: transparent;\n",
              "      border-left-color: var(--fill-color);\n",
              "      border-top-color: var(--fill-color);\n",
              "    }\n",
              "    30% {\n",
              "      border-color: transparent;\n",
              "      border-left-color: var(--fill-color);\n",
              "      border-top-color: var(--fill-color);\n",
              "      border-right-color: var(--fill-color);\n",
              "    }\n",
              "    40% {\n",
              "      border-color: transparent;\n",
              "      border-right-color: var(--fill-color);\n",
              "      border-top-color: var(--fill-color);\n",
              "    }\n",
              "    60% {\n",
              "      border-color: transparent;\n",
              "      border-right-color: var(--fill-color);\n",
              "    }\n",
              "    80% {\n",
              "      border-color: transparent;\n",
              "      border-right-color: var(--fill-color);\n",
              "      border-bottom-color: var(--fill-color);\n",
              "    }\n",
              "    90% {\n",
              "      border-color: transparent;\n",
              "      border-bottom-color: var(--fill-color);\n",
              "    }\n",
              "  }\n",
              "</style>\n",
              "\n",
              "  <script>\n",
              "    async function quickchart(key) {\n",
              "      const quickchartButtonEl =\n",
              "        document.querySelector('#' + key + ' button');\n",
              "      quickchartButtonEl.disabled = true;  // To prevent multiple clicks.\n",
              "      quickchartButtonEl.classList.add('colab-df-spinner');\n",
              "      try {\n",
              "        const charts = await google.colab.kernel.invokeFunction(\n",
              "            'suggestCharts', [key], {});\n",
              "      } catch (error) {\n",
              "        console.error('Error during call to suggestCharts:', error);\n",
              "      }\n",
              "      quickchartButtonEl.classList.remove('colab-df-spinner');\n",
              "      quickchartButtonEl.classList.add('colab-df-quickchart-complete');\n",
              "    }\n",
              "    (() => {\n",
              "      let quickchartButtonEl =\n",
              "        document.querySelector('#df-4b11799c-6e6d-4f9b-900c-df35eca4e329 button');\n",
              "      quickchartButtonEl.style.display =\n",
              "        google.colab.kernel.accessAllowed ? 'block' : 'none';\n",
              "    })();\n",
              "  </script>\n",
              "</div>\n",
              "    </div>\n",
              "  </div>\n"
            ]
          },
          "metadata": {},
          "execution_count": 7
        }
      ],
      "source": [
        "## parameters  key and bpm have a least 20% infulence over the songs streams\n",
        "# predict key and bpm regargding all the other parameters\n",
        "import pandas as pd\n",
        "import numpy as np\n",
        "from sklearn.metrics import mean_squared_error\n",
        "from sklearn.metrics import accuracy_score\n",
        "from sklearn.model_selection import train_test_split\n",
        "from sklearn.linear_model import LinearRegression\n",
        "import matplotlib.pyplot as plt\n",
        "from sklearn.metrics import mean_squared_error\n",
        "from sklearn.neural_network import MLPRegressor\n",
        "from sklearn.preprocessing import PolynomialFeatures\n",
        "from sklearn.linear_model import LinearRegression\n",
        "from sklearn.metrics import mean_squared_error\n",
        "from sklearn.linear_model import LogisticRegression\n",
        "from sklearn.preprocessing import LabelEncoder\n",
        "from sklearn.preprocessing import StandardScaler\n",
        "from sklearn.svm import SVR\n",
        "from sklearn.pipeline import make_pipeline\n",
        "from datetime import date\n",
        "from sklearn.metrics import mean_absolute_error\n",
        "from sklearn.metrics import r2_score\n",
        "import warnings\n",
        "warnings.filterwarnings(\"ignore\")\n",
        "\n",
        "data = pd.read_csv(\"./MAIN_DATASET_spotify2023.csv\")\n",
        "\n",
        "encoder = LabelEncoder()\n",
        "data[\"key\"] = encoder.fit_transform(data[\"key\"])\n",
        "data[\"mode\"] = encoder.fit_transform(data[\"mode\"])\n",
        "released_day_of_year = []\n",
        "\n",
        "for i in range(len(data.index)):\n",
        "    day_of_year = date(data['released_year'][i],\n",
        "                    data['released_month'][i],\n",
        "                    data['released_day'][i]).timetuple().tm_yday\n",
        "    released_day_of_year.append(day_of_year)\n",
        "\n",
        "# add new series to dataframe\n",
        "data.insert(len(data.columns), \"released_day_of_year\", released_day_of_year, True)\n",
        "\n",
        "data = data[[\"released_day_of_year\", \"streams\",'bpm','key', 'mode', 'danceability_%', 'valence_%', 'energy_%','acousticness_%', 'instrumentalness_%', 'liveness_%', 'speechiness_%']]\n",
        "\n",
        "for i in range(len(data)):\n",
        "    data[\"streams\"][i] = data[\"streams\"][i] / 1e6\n",
        "\n",
        "# data_standarized\n",
        "data"
      ]
    },
    {
      "cell_type": "markdown",
      "metadata": {
        "id": "j30cw20CNMUX"
      },
      "source": [
        "Drop `bpm` and `key` columns from dataset; split the dataset."
      ]
    },
    {
      "cell_type": "code",
      "execution_count": 8,
      "metadata": {
        "colab": {
          "base_uri": "https://localhost:8080/",
          "height": 456
        },
        "id": "a5Psemp6N4Bb",
        "outputId": "64a4491e-685f-4ce8-dde4-4fef0e2c4899"
      },
      "outputs": [
        {
          "output_type": "stream",
          "name": "stdout",
          "text": [
            "Percent of Train: 79.94  and Test dataset:20.06 \n"
          ]
        },
        {
          "output_type": "execute_result",
          "data": {
            "text/plain": [
              "     released_day_of_year     streams  mode  danceability_%  valence_%  \\\n",
              "0                     195  141.381703     0              80         89   \n",
              "1                      82  133.716286     0              71         61   \n",
              "2                     181  140.003974     0              51         32   \n",
              "3                     235  800.840817     0              55         58   \n",
              "4                     138  303.236322     1              65         23   \n",
              "..                    ...         ...   ...             ...        ...   \n",
              "947                   307   91.473363     0              60         24   \n",
              "948                   294  121.871870     0              42          7   \n",
              "949                   307   73.513683     0              80         81   \n",
              "950                   293  133.895612     0              82         67   \n",
              "951                   308   96.007391     1              61         32   \n",
              "\n",
              "     energy_%  acousticness_%  instrumentalness_%  liveness_%  speechiness_%  \n",
              "0          83              31                   0           8              4  \n",
              "1          74               7                   0          10              4  \n",
              "2          53              17                   0          31              6  \n",
              "3          72              11                   0          11             15  \n",
              "4          80              14                  63          11              6  \n",
              "..        ...             ...                 ...         ...            ...  \n",
              "947        39              57                   0           8              3  \n",
              "948        24              83                   1          12              6  \n",
              "949        67               4                   0           8              6  \n",
              "950        77               8                   0          12              5  \n",
              "951        67              15                   0          11              5  \n",
              "\n",
              "[952 rows x 10 columns]"
            ],
            "text/html": [
              "\n",
              "  <div id=\"df-8f4ff478-18aa-41ae-a833-9cc5f793caae\" class=\"colab-df-container\">\n",
              "    <div>\n",
              "<style scoped>\n",
              "    .dataframe tbody tr th:only-of-type {\n",
              "        vertical-align: middle;\n",
              "    }\n",
              "\n",
              "    .dataframe tbody tr th {\n",
              "        vertical-align: top;\n",
              "    }\n",
              "\n",
              "    .dataframe thead th {\n",
              "        text-align: right;\n",
              "    }\n",
              "</style>\n",
              "<table border=\"1\" class=\"dataframe\">\n",
              "  <thead>\n",
              "    <tr style=\"text-align: right;\">\n",
              "      <th></th>\n",
              "      <th>released_day_of_year</th>\n",
              "      <th>streams</th>\n",
              "      <th>mode</th>\n",
              "      <th>danceability_%</th>\n",
              "      <th>valence_%</th>\n",
              "      <th>energy_%</th>\n",
              "      <th>acousticness_%</th>\n",
              "      <th>instrumentalness_%</th>\n",
              "      <th>liveness_%</th>\n",
              "      <th>speechiness_%</th>\n",
              "    </tr>\n",
              "  </thead>\n",
              "  <tbody>\n",
              "    <tr>\n",
              "      <th>0</th>\n",
              "      <td>195</td>\n",
              "      <td>141.381703</td>\n",
              "      <td>0</td>\n",
              "      <td>80</td>\n",
              "      <td>89</td>\n",
              "      <td>83</td>\n",
              "      <td>31</td>\n",
              "      <td>0</td>\n",
              "      <td>8</td>\n",
              "      <td>4</td>\n",
              "    </tr>\n",
              "    <tr>\n",
              "      <th>1</th>\n",
              "      <td>82</td>\n",
              "      <td>133.716286</td>\n",
              "      <td>0</td>\n",
              "      <td>71</td>\n",
              "      <td>61</td>\n",
              "      <td>74</td>\n",
              "      <td>7</td>\n",
              "      <td>0</td>\n",
              "      <td>10</td>\n",
              "      <td>4</td>\n",
              "    </tr>\n",
              "    <tr>\n",
              "      <th>2</th>\n",
              "      <td>181</td>\n",
              "      <td>140.003974</td>\n",
              "      <td>0</td>\n",
              "      <td>51</td>\n",
              "      <td>32</td>\n",
              "      <td>53</td>\n",
              "      <td>17</td>\n",
              "      <td>0</td>\n",
              "      <td>31</td>\n",
              "      <td>6</td>\n",
              "    </tr>\n",
              "    <tr>\n",
              "      <th>3</th>\n",
              "      <td>235</td>\n",
              "      <td>800.840817</td>\n",
              "      <td>0</td>\n",
              "      <td>55</td>\n",
              "      <td>58</td>\n",
              "      <td>72</td>\n",
              "      <td>11</td>\n",
              "      <td>0</td>\n",
              "      <td>11</td>\n",
              "      <td>15</td>\n",
              "    </tr>\n",
              "    <tr>\n",
              "      <th>4</th>\n",
              "      <td>138</td>\n",
              "      <td>303.236322</td>\n",
              "      <td>1</td>\n",
              "      <td>65</td>\n",
              "      <td>23</td>\n",
              "      <td>80</td>\n",
              "      <td>14</td>\n",
              "      <td>63</td>\n",
              "      <td>11</td>\n",
              "      <td>6</td>\n",
              "    </tr>\n",
              "    <tr>\n",
              "      <th>...</th>\n",
              "      <td>...</td>\n",
              "      <td>...</td>\n",
              "      <td>...</td>\n",
              "      <td>...</td>\n",
              "      <td>...</td>\n",
              "      <td>...</td>\n",
              "      <td>...</td>\n",
              "      <td>...</td>\n",
              "      <td>...</td>\n",
              "      <td>...</td>\n",
              "    </tr>\n",
              "    <tr>\n",
              "      <th>947</th>\n",
              "      <td>307</td>\n",
              "      <td>91.473363</td>\n",
              "      <td>0</td>\n",
              "      <td>60</td>\n",
              "      <td>24</td>\n",
              "      <td>39</td>\n",
              "      <td>57</td>\n",
              "      <td>0</td>\n",
              "      <td>8</td>\n",
              "      <td>3</td>\n",
              "    </tr>\n",
              "    <tr>\n",
              "      <th>948</th>\n",
              "      <td>294</td>\n",
              "      <td>121.871870</td>\n",
              "      <td>0</td>\n",
              "      <td>42</td>\n",
              "      <td>7</td>\n",
              "      <td>24</td>\n",
              "      <td>83</td>\n",
              "      <td>1</td>\n",
              "      <td>12</td>\n",
              "      <td>6</td>\n",
              "    </tr>\n",
              "    <tr>\n",
              "      <th>949</th>\n",
              "      <td>307</td>\n",
              "      <td>73.513683</td>\n",
              "      <td>0</td>\n",
              "      <td>80</td>\n",
              "      <td>81</td>\n",
              "      <td>67</td>\n",
              "      <td>4</td>\n",
              "      <td>0</td>\n",
              "      <td>8</td>\n",
              "      <td>6</td>\n",
              "    </tr>\n",
              "    <tr>\n",
              "      <th>950</th>\n",
              "      <td>293</td>\n",
              "      <td>133.895612</td>\n",
              "      <td>0</td>\n",
              "      <td>82</td>\n",
              "      <td>67</td>\n",
              "      <td>77</td>\n",
              "      <td>8</td>\n",
              "      <td>0</td>\n",
              "      <td>12</td>\n",
              "      <td>5</td>\n",
              "    </tr>\n",
              "    <tr>\n",
              "      <th>951</th>\n",
              "      <td>308</td>\n",
              "      <td>96.007391</td>\n",
              "      <td>1</td>\n",
              "      <td>61</td>\n",
              "      <td>32</td>\n",
              "      <td>67</td>\n",
              "      <td>15</td>\n",
              "      <td>0</td>\n",
              "      <td>11</td>\n",
              "      <td>5</td>\n",
              "    </tr>\n",
              "  </tbody>\n",
              "</table>\n",
              "<p>952 rows × 10 columns</p>\n",
              "</div>\n",
              "    <div class=\"colab-df-buttons\">\n",
              "\n",
              "  <div class=\"colab-df-container\">\n",
              "    <button class=\"colab-df-convert\" onclick=\"convertToInteractive('df-8f4ff478-18aa-41ae-a833-9cc5f793caae')\"\n",
              "            title=\"Convert this dataframe to an interactive table.\"\n",
              "            style=\"display:none;\">\n",
              "\n",
              "  <svg xmlns=\"http://www.w3.org/2000/svg\" height=\"24px\" viewBox=\"0 -960 960 960\">\n",
              "    <path d=\"M120-120v-720h720v720H120Zm60-500h600v-160H180v160Zm220 220h160v-160H400v160Zm0 220h160v-160H400v160ZM180-400h160v-160H180v160Zm440 0h160v-160H620v160ZM180-180h160v-160H180v160Zm440 0h160v-160H620v160Z\"/>\n",
              "  </svg>\n",
              "    </button>\n",
              "\n",
              "  <style>\n",
              "    .colab-df-container {\n",
              "      display:flex;\n",
              "      gap: 12px;\n",
              "    }\n",
              "\n",
              "    .colab-df-convert {\n",
              "      background-color: #E8F0FE;\n",
              "      border: none;\n",
              "      border-radius: 50%;\n",
              "      cursor: pointer;\n",
              "      display: none;\n",
              "      fill: #1967D2;\n",
              "      height: 32px;\n",
              "      padding: 0 0 0 0;\n",
              "      width: 32px;\n",
              "    }\n",
              "\n",
              "    .colab-df-convert:hover {\n",
              "      background-color: #E2EBFA;\n",
              "      box-shadow: 0px 1px 2px rgba(60, 64, 67, 0.3), 0px 1px 3px 1px rgba(60, 64, 67, 0.15);\n",
              "      fill: #174EA6;\n",
              "    }\n",
              "\n",
              "    .colab-df-buttons div {\n",
              "      margin-bottom: 4px;\n",
              "    }\n",
              "\n",
              "    [theme=dark] .colab-df-convert {\n",
              "      background-color: #3B4455;\n",
              "      fill: #D2E3FC;\n",
              "    }\n",
              "\n",
              "    [theme=dark] .colab-df-convert:hover {\n",
              "      background-color: #434B5C;\n",
              "      box-shadow: 0px 1px 3px 1px rgba(0, 0, 0, 0.15);\n",
              "      filter: drop-shadow(0px 1px 2px rgba(0, 0, 0, 0.3));\n",
              "      fill: #FFFFFF;\n",
              "    }\n",
              "  </style>\n",
              "\n",
              "    <script>\n",
              "      const buttonEl =\n",
              "        document.querySelector('#df-8f4ff478-18aa-41ae-a833-9cc5f793caae button.colab-df-convert');\n",
              "      buttonEl.style.display =\n",
              "        google.colab.kernel.accessAllowed ? 'block' : 'none';\n",
              "\n",
              "      async function convertToInteractive(key) {\n",
              "        const element = document.querySelector('#df-8f4ff478-18aa-41ae-a833-9cc5f793caae');\n",
              "        const dataTable =\n",
              "          await google.colab.kernel.invokeFunction('convertToInteractive',\n",
              "                                                    [key], {});\n",
              "        if (!dataTable) return;\n",
              "\n",
              "        const docLinkHtml = 'Like what you see? Visit the ' +\n",
              "          '<a target=\"_blank\" href=https://colab.research.google.com/notebooks/data_table.ipynb>data table notebook</a>'\n",
              "          + ' to learn more about interactive tables.';\n",
              "        element.innerHTML = '';\n",
              "        dataTable['output_type'] = 'display_data';\n",
              "        await google.colab.output.renderOutput(dataTable, element);\n",
              "        const docLink = document.createElement('div');\n",
              "        docLink.innerHTML = docLinkHtml;\n",
              "        element.appendChild(docLink);\n",
              "      }\n",
              "    </script>\n",
              "  </div>\n",
              "\n",
              "\n",
              "<div id=\"df-cc11ebcf-57c4-45eb-bf48-6462f9aa26df\">\n",
              "  <button class=\"colab-df-quickchart\" onclick=\"quickchart('df-cc11ebcf-57c4-45eb-bf48-6462f9aa26df')\"\n",
              "            title=\"Suggest charts\"\n",
              "            style=\"display:none;\">\n",
              "\n",
              "<svg xmlns=\"http://www.w3.org/2000/svg\" height=\"24px\"viewBox=\"0 0 24 24\"\n",
              "     width=\"24px\">\n",
              "    <g>\n",
              "        <path d=\"M19 3H5c-1.1 0-2 .9-2 2v14c0 1.1.9 2 2 2h14c1.1 0 2-.9 2-2V5c0-1.1-.9-2-2-2zM9 17H7v-7h2v7zm4 0h-2V7h2v10zm4 0h-2v-4h2v4z\"/>\n",
              "    </g>\n",
              "</svg>\n",
              "  </button>\n",
              "\n",
              "<style>\n",
              "  .colab-df-quickchart {\n",
              "      --bg-color: #E8F0FE;\n",
              "      --fill-color: #1967D2;\n",
              "      --hover-bg-color: #E2EBFA;\n",
              "      --hover-fill-color: #174EA6;\n",
              "      --disabled-fill-color: #AAA;\n",
              "      --disabled-bg-color: #DDD;\n",
              "  }\n",
              "\n",
              "  [theme=dark] .colab-df-quickchart {\n",
              "      --bg-color: #3B4455;\n",
              "      --fill-color: #D2E3FC;\n",
              "      --hover-bg-color: #434B5C;\n",
              "      --hover-fill-color: #FFFFFF;\n",
              "      --disabled-bg-color: #3B4455;\n",
              "      --disabled-fill-color: #666;\n",
              "  }\n",
              "\n",
              "  .colab-df-quickchart {\n",
              "    background-color: var(--bg-color);\n",
              "    border: none;\n",
              "    border-radius: 50%;\n",
              "    cursor: pointer;\n",
              "    display: none;\n",
              "    fill: var(--fill-color);\n",
              "    height: 32px;\n",
              "    padding: 0;\n",
              "    width: 32px;\n",
              "  }\n",
              "\n",
              "  .colab-df-quickchart:hover {\n",
              "    background-color: var(--hover-bg-color);\n",
              "    box-shadow: 0 1px 2px rgba(60, 64, 67, 0.3), 0 1px 3px 1px rgba(60, 64, 67, 0.15);\n",
              "    fill: var(--button-hover-fill-color);\n",
              "  }\n",
              "\n",
              "  .colab-df-quickchart-complete:disabled,\n",
              "  .colab-df-quickchart-complete:disabled:hover {\n",
              "    background-color: var(--disabled-bg-color);\n",
              "    fill: var(--disabled-fill-color);\n",
              "    box-shadow: none;\n",
              "  }\n",
              "\n",
              "  .colab-df-spinner {\n",
              "    border: 2px solid var(--fill-color);\n",
              "    border-color: transparent;\n",
              "    border-bottom-color: var(--fill-color);\n",
              "    animation:\n",
              "      spin 1s steps(1) infinite;\n",
              "  }\n",
              "\n",
              "  @keyframes spin {\n",
              "    0% {\n",
              "      border-color: transparent;\n",
              "      border-bottom-color: var(--fill-color);\n",
              "      border-left-color: var(--fill-color);\n",
              "    }\n",
              "    20% {\n",
              "      border-color: transparent;\n",
              "      border-left-color: var(--fill-color);\n",
              "      border-top-color: var(--fill-color);\n",
              "    }\n",
              "    30% {\n",
              "      border-color: transparent;\n",
              "      border-left-color: var(--fill-color);\n",
              "      border-top-color: var(--fill-color);\n",
              "      border-right-color: var(--fill-color);\n",
              "    }\n",
              "    40% {\n",
              "      border-color: transparent;\n",
              "      border-right-color: var(--fill-color);\n",
              "      border-top-color: var(--fill-color);\n",
              "    }\n",
              "    60% {\n",
              "      border-color: transparent;\n",
              "      border-right-color: var(--fill-color);\n",
              "    }\n",
              "    80% {\n",
              "      border-color: transparent;\n",
              "      border-right-color: var(--fill-color);\n",
              "      border-bottom-color: var(--fill-color);\n",
              "    }\n",
              "    90% {\n",
              "      border-color: transparent;\n",
              "      border-bottom-color: var(--fill-color);\n",
              "    }\n",
              "  }\n",
              "</style>\n",
              "\n",
              "  <script>\n",
              "    async function quickchart(key) {\n",
              "      const quickchartButtonEl =\n",
              "        document.querySelector('#' + key + ' button');\n",
              "      quickchartButtonEl.disabled = true;  // To prevent multiple clicks.\n",
              "      quickchartButtonEl.classList.add('colab-df-spinner');\n",
              "      try {\n",
              "        const charts = await google.colab.kernel.invokeFunction(\n",
              "            'suggestCharts', [key], {});\n",
              "      } catch (error) {\n",
              "        console.error('Error during call to suggestCharts:', error);\n",
              "      }\n",
              "      quickchartButtonEl.classList.remove('colab-df-spinner');\n",
              "      quickchartButtonEl.classList.add('colab-df-quickchart-complete');\n",
              "    }\n",
              "    (() => {\n",
              "      let quickchartButtonEl =\n",
              "        document.querySelector('#df-cc11ebcf-57c4-45eb-bf48-6462f9aa26df button');\n",
              "      quickchartButtonEl.style.display =\n",
              "        google.colab.kernel.accessAllowed ? 'block' : 'none';\n",
              "    })();\n",
              "  </script>\n",
              "</div>\n",
              "    </div>\n",
              "  </div>\n"
            ]
          },
          "metadata": {},
          "execution_count": 8
        }
      ],
      "source": [
        "data = data.drop(columns=['bpm', 'key'])\n",
        "X = data.drop(\"streams\", axis = 1)\n",
        "y = data[\"streams\"]\n",
        "\n",
        "X_train, X_help, y_train, y_help = train_test_split(X, y, test_size=0.2, random_state=42)\n",
        "X_val, X_test, y_val, y_test = train_test_split(X_help, y_help, test_size=0.5, random_state=42)\n",
        "\n",
        "\n",
        "test_percent = (len(X_help)/(len(data)))*100\n",
        "train_percent = (len(X_train)/(len(data)))*100\n",
        "print(f\"Percent of Train: {train_percent:.2f}  and Test dataset:{test_percent:.2f} \")\n",
        "data"
      ]
    },
    {
      "cell_type": "markdown",
      "metadata": {
        "id": "1zQWqaxoRIdK"
      },
      "source": [
        "# Linear Regression - w/o `bpm`, `key`"
      ]
    },
    {
      "cell_type": "code",
      "execution_count": 9,
      "metadata": {
        "colab": {
          "base_uri": "https://localhost:8080/"
        },
        "id": "_Vrhu4qwPjJ_",
        "outputId": "cad53b6c-45ce-464f-ca6d-1e1bea6e6342"
      },
      "outputs": [
        {
          "output_type": "stream",
          "name": "stdout",
          "text": [
            "Rmse val: 512.3658302527504, Mean squared error val:  262518.7440105902\n",
            "Rmse: 573.2162055717955, Mean squared error train:  328576.818330127\n"
          ]
        }
      ],
      "source": [
        "reg = LinearRegression()\n",
        "weights_train = np.ones_like(y_train)\n",
        "np.random.seed(42)\n",
        "\n",
        "reg.fit(X_train, y_train, sample_weight=weights_train)\n",
        "y_pred_train = reg.predict(X_train)\n",
        "y_pred = reg.predict(X_test)\n",
        "\n",
        "rmse = np.sqrt(np.mean((y_pred - y_test)**2))\n",
        "mean = mean_squared_error(y_test, y_pred)\n",
        "print(f\"Rmse val: {rmse}, Mean squared error val:  {mean}\")\n",
        "\n",
        "rmse = np.sqrt(np.mean((y_pred_train - y_train)**2))\n",
        "mean = mean_squared_error(y_train, y_pred_train)\n",
        "print(f\"Rmse: {rmse}, Mean squared error train:  {mean}\")"
      ]
    },
    {
      "cell_type": "markdown",
      "metadata": {
        "id": "u6-LUe14Rbj6"
      },
      "source": [
        "# MLPRegressor - w/o `bpm`, `key`"
      ]
    },
    {
      "cell_type": "code",
      "execution_count": 10,
      "metadata": {
        "colab": {
          "base_uri": "https://localhost:8080/"
        },
        "id": "KDYV3N9sR-01",
        "outputId": "23d6830c-6c31-4c78-a70f-23a4f706e22f"
      },
      "outputs": [
        {
          "output_type": "stream",
          "name": "stdout",
          "text": [
            "Rmse val: 505.1428695433409, Mean squared error val:  255169.3186504807\n",
            "Rmse: 585.3437242038696, Mean squared error train:  342627.2754648557\n"
          ]
        }
      ],
      "source": [
        "reg = MLPRegressor(hidden_layer_sizes=(5, 6, 5), random_state=42, max_iter=100, solver='sgd')\n",
        "reg.fit(X_train, y_train)\n",
        "y_pred_train = reg.predict(X_train)\n",
        "y_pred = reg.predict(X_val)\n",
        "\n",
        "rmse = np.sqrt(np.mean((y_pred - y_val)**2))\n",
        "mean = mean_squared_error(y_val, y_pred)\n",
        "print(f\"Rmse val: {rmse}, Mean squared error val:  {mean}\")\n",
        "\n",
        "rmse = np.sqrt(np.mean((y_pred_train - y_train)**2))\n",
        "mean = mean_squared_error(y_train, y_pred_train)\n",
        "print(f\"Rmse: {rmse}, Mean squared error train:  {mean}\")"
      ]
    },
    {
      "cell_type": "markdown",
      "metadata": {
        "id": "MruJaC7CTBah"
      },
      "source": [
        "# Polynomial regressor - w/o `bpm`, `key`"
      ]
    },
    {
      "cell_type": "code",
      "execution_count": 11,
      "metadata": {
        "colab": {
          "base_uri": "https://localhost:8080/"
        },
        "id": "ztppa0V0TJ4x",
        "outputId": "389942c9-ed36-4720-95fa-09633b03c388"
      },
      "outputs": [
        {
          "output_type": "stream",
          "name": "stdout",
          "text": [
            "Rmse val: 500.12479531382235, Mean squared error val:  250124.8108876927\n",
            "Rmse: 559.656240448481, Mean squared error train:  313215.1074729279\n"
          ]
        }
      ],
      "source": [
        "poly_features = PolynomialFeatures(degree = 2)\n",
        "X_train_poly = poly_features.fit_transform(X_train)\n",
        "X_val_poly = poly_features.fit_transform(X_val)\n",
        "\n",
        "reg = LinearRegression()\n",
        "reg.fit(X_train_poly, y_train)\n",
        "\n",
        "y_pred_train1 = reg.predict(X_train_poly)\n",
        "y_val_train1 = reg.predict(X_val_poly)\n",
        "\n",
        "rmse = np.sqrt(np.mean((y_val_train1 - y_val)**2))\n",
        "mean = mean_squared_error(y_val, y_val_train1)\n",
        "print(f\"Rmse val: {rmse}, Mean squared error val:  {mean}\")\n",
        "\n",
        "rmse = np.sqrt(np.mean((y_pred_train1 - y_train)**2))\n",
        "mean = mean_squared_error(y_train, y_pred_train1)\n",
        "print(f\"Rmse: {rmse}, Mean squared error train:  {mean}\")"
      ]
    },
    {
      "cell_type": "markdown",
      "metadata": {
        "id": "r7C9XZbJU8hV"
      },
      "source": [
        "# SVM Regressor - w/o `bpm`, `key`"
      ]
    },
    {
      "cell_type": "code",
      "execution_count": 12,
      "metadata": {
        "colab": {
          "base_uri": "https://localhost:8080/"
        },
        "id": "XCY9Y9YWUs5I",
        "outputId": "7b22c8b4-86fc-4f51-d3d1-03b5e9bfe4f3"
      },
      "outputs": [
        {
          "output_type": "stream",
          "name": "stdout",
          "text": [
            "Rmse val: 500.8180170305747, Mean squared error val:  250818.68618243703\n",
            "Rmse: 625.7092512318243, Mean squared error train:  391512.06707709015\n"
          ]
        }
      ],
      "source": [
        "regr = make_pipeline(StandardScaler(), SVR(C=1.0, epsilon=0.2))\n",
        "regr.fit(X_train, y_train)\n",
        "\n",
        "y_pred_train = regr.predict(X_train)\n",
        "y_pred = regr.predict(X_val)\n",
        "\n",
        "rmse = np.sqrt(np.mean((y_pred - y_val)**2))\n",
        "mean = mean_squared_error(y_val, y_pred)\n",
        "print(f\"Rmse val: {rmse}, Mean squared error val:  {mean}\")\n",
        "\n",
        "rmse = np.sqrt(np.mean((y_pred_train - y_train)**2))\n",
        "mean = mean_squared_error(y_train, y_pred_train)\n",
        "print(f\"Rmse: {rmse}, Mean squared error train:  {mean}\")"
      ]
    },
    {
      "cell_type": "markdown",
      "metadata": {
        "id": "bdw9gvuycbrE"
      },
      "source": [
        "# k-fold cross-validation"
      ]
    },
    {
      "cell_type": "code",
      "execution_count": 13,
      "metadata": {
        "id": "kKqKbXhqTbAC"
      },
      "outputs": [],
      "source": [
        "from sklearn.model_selection import cross_val_score, cross_validate"
      ]
    },
    {
      "cell_type": "markdown",
      "metadata": {
        "id": "BUxsW3jvci8z"
      },
      "source": [
        "# Linear Regression - w/o `bpm`, `key`; k-fold Cross-Validation"
      ]
    },
    {
      "cell_type": "code",
      "execution_count": 14,
      "metadata": {
        "colab": {
          "base_uri": "https://localhost:8080/"
        },
        "id": "srckwkyHch1t",
        "outputId": "ea6031a6-1b10-4251-e3b1-a283dd260524"
      },
      "outputs": [
        {
          "output_type": "stream",
          "name": "stdout",
          "text": [
            "3-folds validation\n",
            "mean of 3-folds cross_validation: -582.5294284543505\n",
            "----------\n",
            "5-folds validation\n",
            "mean of 5-folds cross_validation: -580.145320602718\n",
            "----------\n",
            "10-folds validation\n",
            "mean of 10-folds cross_validation: -577.3453364805077\n",
            "----------\n",
            "5-folds cross_validate\n",
            "\n",
            "r2: -0.0008499859876477611\n",
            "negative_mean_abs_error: -425.22377904230973\n"
          ]
        }
      ],
      "source": [
        "reg = LinearRegression()\n",
        "for k in [3,5,10]:\n",
        "    print(f\"{k}-folds validation\")\n",
        "    scores = cross_val_score(reg, X_train, y_train, cv=k, scoring='neg_root_mean_squared_error')\n",
        "    mean_cross = scores.mean()\n",
        "    print(f\"mean of {k}-folds cross_validation: {mean_cross}\")\n",
        "    print(\"----------\")\n",
        "\n",
        "print(\"5-folds cross_validate\")\n",
        "scores = cross_validate(reg, X_train, y_train, cv=5, scoring=['r2','neg_mean_absolute_error'],return_train_score=True)\n",
        "print(f\"\\nr2: {scores['test_r2'].mean()}\")\n",
        "print(f\"negative_mean_abs_error: {scores['test_neg_mean_absolute_error'].mean()}\")\n"
      ]
    },
    {
      "cell_type": "markdown",
      "metadata": {
        "id": "4dBMuhA4WvPl"
      },
      "source": [
        "# MLPRegressor - w/o `bpm`, `key`; k-fold Cross-Validation"
      ]
    },
    {
      "cell_type": "code",
      "execution_count": 15,
      "metadata": {
        "colab": {
          "base_uri": "https://localhost:8080/"
        },
        "id": "HPBwo3TbWu6n",
        "outputId": "59e0ff16-3d8b-4b5d-e29d-a7e503167c02"
      },
      "outputs": [
        {
          "output_type": "stream",
          "name": "stdout",
          "text": [
            "3-folds validation\n",
            "mean of 3-folds cross_validation: -588.7769130323164\n",
            "----------\n",
            "5-folds validation\n",
            "mean of 5-folds cross_validation: -678.6830930818264\n",
            "----------\n",
            "10-folds validation\n",
            "mean of 10-folds cross_validation: -588.0349317712866\n",
            "----------\n",
            "5-folds cross_validate\n",
            "\n",
            "r2: -0.3672248310680235\n",
            "negative_mean_abs_error: -398.1555059312507\n"
          ]
        }
      ],
      "source": [
        "reg = MLPRegressor(hidden_layer_sizes=(5, 6, 5), random_state=42, max_iter=100, solver='sgd')\n",
        "for k in [3,5,10]:\n",
        "    print(f\"{k}-folds validation\")\n",
        "    scores = cross_val_score(reg, X_train, y_train, cv=k, scoring='neg_root_mean_squared_error')\n",
        "    mean_cross = scores.mean()\n",
        "    print(f\"mean of {k}-folds cross_validation: {mean_cross}\")\n",
        "    print(\"----------\")\n",
        "\n",
        "print(\"5-folds cross_validate\")\n",
        "scores = cross_validate(reg, X_train, y_train, cv=5, scoring=['r2','neg_mean_absolute_error'],return_train_score=True)\n",
        "print(f\"\\nr2: {scores['test_r2'].mean()}\")\n",
        "print(f\"negative_mean_abs_error: {scores['test_neg_mean_absolute_error'].mean()}\")\n",
        "\n"
      ]
    },
    {
      "cell_type": "markdown",
      "metadata": {
        "id": "U5oyBEHSXRmW"
      },
      "source": [
        "# Polynomial regressor - w/o `bpm`, `key`; k-fold Cross-Validation"
      ]
    },
    {
      "cell_type": "code",
      "execution_count": 16,
      "metadata": {
        "colab": {
          "base_uri": "https://localhost:8080/"
        },
        "id": "1bvay9mKXSrq",
        "outputId": "c24e5e89-4c35-4b48-cb32-255d3ef36bb4"
      },
      "outputs": [
        {
          "output_type": "stream",
          "name": "stdout",
          "text": [
            "3-folds validation\n",
            "mean of 3-folds cross_validation: -582.5294284543505\n",
            "----------\n",
            "5-folds validation\n",
            "mean of 5-folds cross_validation: -580.145320602718\n",
            "----------\n",
            "10-folds validation\n",
            "mean of 10-folds cross_validation: -577.3453364805077\n",
            "----------\n",
            "5-folds cross_validate\n",
            "\n",
            "r2: -0.0008499859876477611\n",
            "negative_mean_abs_error: -425.22377904230973\n"
          ]
        }
      ],
      "source": [
        "poly_features = PolynomialFeatures(degree = 2)\n",
        "X_train_poly = poly_features.fit_transform(X_train)\n",
        "X_val_poly = poly_features.fit_transform(X_val)\n",
        "reg = LinearRegression()\n",
        "\n",
        "for k in [3,5,10]:\n",
        "    print(f\"{k}-folds validation\")\n",
        "    scores = cross_val_score(reg, X_train, y_train, cv=k, scoring='neg_root_mean_squared_error')\n",
        "    mean_cross = scores.mean()\n",
        "    print(f\"mean of {k}-folds cross_validation: {mean_cross}\")\n",
        "    print(\"----------\")\n",
        "\n",
        "print(\"5-folds cross_validate\")\n",
        "scores = cross_validate(reg, X_train, y_train, cv=5, scoring=['r2','neg_mean_absolute_error'],return_train_score=True)\n",
        "print(f\"\\nr2: {scores['test_r2'].mean()}\")\n",
        "print(f\"negative_mean_abs_error: {scores['test_neg_mean_absolute_error'].mean()}\")\n",
        "\n"
      ]
    },
    {
      "cell_type": "markdown",
      "metadata": {
        "id": "-MIzr1nuXqk2"
      },
      "source": [
        "# SVM Regressor - w/o `bpm`, `key`; k-fold Cross-Validation"
      ]
    },
    {
      "cell_type": "code",
      "execution_count": 17,
      "metadata": {
        "colab": {
          "base_uri": "https://localhost:8080/"
        },
        "id": "V7d-8ex4XvuL",
        "outputId": "37ad9de4-189a-48cf-b3a3-4f65e6234e45"
      },
      "outputs": [
        {
          "output_type": "stream",
          "name": "stdout",
          "text": [
            "3-folds validation\n",
            "mean of 3-folds cross_validation: -626.2722490578689\n",
            "----------\n",
            "5-folds validation\n",
            "mean of 5-folds cross_validation: -624.560802273076\n",
            "----------\n",
            "10-folds validation\n",
            "mean of 10-folds cross_validation: -621.270432014376\n",
            "----------\n",
            "5-folds cross_validate\n",
            "\n",
            "r2: -0.1571961514063153\n",
            "negative_mean_abs_error: -377.6321738529522\n"
          ]
        }
      ],
      "source": [
        "reg = make_pipeline(StandardScaler(), SVR(C=1.0, epsilon=0.2))\n",
        "for k in [3,5,10]:\n",
        "    print(f\"{k}-folds validation\")\n",
        "    scores = cross_val_score(reg, X_train, y_train, cv=k, scoring='neg_root_mean_squared_error')\n",
        "    mean_cross = scores.mean()\n",
        "    print(f\"mean of {k}-folds cross_validation: {mean_cross}\")\n",
        "    print(\"----------\")\n",
        "\n",
        "print(\"5-folds cross_validate\")\n",
        "scores = cross_validate(reg, X_train, y_train, cv=5, scoring=['r2','neg_mean_absolute_error'],return_train_score=True)\n",
        "print(f\"\\nr2: {scores['test_r2'].mean()}\")\n",
        "print(f\"negative_mean_abs_error: {scores['test_neg_mean_absolute_error'].mean()}\")\n"
      ]
    },
    {
      "cell_type": "markdown",
      "metadata": {
        "id": "oxORUUwTcys8"
      },
      "source": [
        "# Grid Search"
      ]
    },
    {
      "cell_type": "code",
      "execution_count": 18,
      "metadata": {
        "id": "tt6Zoxm6dN1D"
      },
      "outputs": [],
      "source": [
        "from sklearn.model_selection import GridSearchCV\n",
        "X_train, X_help, y_train, y_help = train_test_split(X, y, test_size=0.2, random_state=42)"
      ]
    },
    {
      "cell_type": "markdown",
      "metadata": {
        "id": "eUXQYz6Pc_yk"
      },
      "source": [
        "# Linear Regression - w/o `bpm`, `key`; 5-fold Cross-Validation; Grid Search"
      ]
    },
    {
      "cell_type": "code",
      "execution_count": 19,
      "metadata": {
        "colab": {
          "base_uri": "https://localhost:8080/"
        },
        "id": "FGJ6pYk2cy_8",
        "outputId": "b1263f3d-3125-4bfe-d099-50b9d5297a4b"
      },
      "outputs": [
        {
          "output_type": "stream",
          "name": "stdout",
          "text": [
            "{}\n",
            "LinearRegression()\n",
            "-580.145320602718\n"
          ]
        }
      ],
      "source": [
        "# useless\n",
        "reg = LinearRegression()\n",
        "parameters = {}\n",
        "grid_search = GridSearchCV(reg, parameters, cv=5, scoring='neg_root_mean_squared_error')\n",
        "grid_search.fit(X_train, y_train)\n",
        "print(grid_search.best_params_)\n",
        "print(grid_search.best_estimator_)\n",
        "print(grid_search.best_score_)"
      ]
    },
    {
      "cell_type": "markdown",
      "metadata": {
        "id": "GVpEGbXcemR3"
      },
      "source": [
        "# MLPRegressor - w/o `bpm`, `key`; k-fold Cross-Validation; Grid Search"
      ]
    },
    {
      "cell_type": "code",
      "execution_count": 20,
      "metadata": {
        "colab": {
          "base_uri": "https://localhost:8080/"
        },
        "id": "9p6ayCICek7Y",
        "outputId": "68cd4c5a-f455-4263-902c-8f3708cfdd0f"
      },
      "outputs": [
        {
          "output_type": "stream",
          "name": "stdout",
          "text": [
            "{'hidden_layer_sizes': (10, 5, 5), 'max_iter': 50, 'solver': 'lbfgs'}\n",
            "MLPRegressor(hidden_layer_sizes=(10, 5, 5), max_iter=50, random_state=42,\n",
            "             solver='lbfgs')\n",
            "-574.5316409201527\n"
          ]
        }
      ],
      "source": [
        "reg = MLPRegressor(random_state=42)\n",
        "parameters = {'max_iter' : [50,100,150,400,800],\n",
        "              'solver':('lbfgs', 'sgd', 'adam'),\n",
        "              'hidden_layer_sizes':[(10, 5, 5), (5, 10, 5), (5, 5, 10),(5,5), (5,10)]}\n",
        "\n",
        "grid_search = GridSearchCV(reg, parameters, cv=5, scoring='neg_root_mean_squared_error')\n",
        "grid_search.fit(X_train, y_train)\n",
        "print(grid_search.best_params_)\n",
        "print(grid_search.best_estimator_)\n",
        "print(grid_search.best_score_)"
      ]
    },
    {
      "cell_type": "markdown",
      "metadata": {
        "id": "6dz87PVMgf54"
      },
      "source": [
        "# SVM Regressor - w/o `bpm`, `key`; k-fold Cross-Validation; Grid Search"
      ]
    },
    {
      "cell_type": "code",
      "execution_count": 21,
      "metadata": {
        "colab": {
          "base_uri": "https://localhost:8080/"
        },
        "id": "LrlpmrQTgfqH",
        "outputId": "fb74b619-6fd5-4966-d703-35100fac982b"
      },
      "outputs": [
        {
          "output_type": "stream",
          "name": "stdout",
          "text": [
            "{'C': 10, 'epsilon': 0.1, 'kernel': 'rbf', 'max_iter': 100}\n",
            "SVR(C=10, max_iter=100)\n",
            "-581.9139086698899\n"
          ]
        }
      ],
      "source": [
        "parameters = {'max_iter' : [50,100,150,400,800],\n",
        "              'kernel':('linear', 'poly', 'rbf', 'sigmoid'),\n",
        "              'C': [10**i for i in range(1, 8)],\n",
        "              'epsilon': [0.1**i for i in range(1, 8)]}\n",
        "reg = SVR()\n",
        "grid_search = GridSearchCV(reg, parameters, cv=5, scoring='neg_root_mean_squared_error')\n",
        "grid_search.fit(X_train, y_train)\n",
        "print(grid_search.best_params_)\n",
        "print(grid_search.best_estimator_)\n",
        "print(grid_search.best_score_)"
      ]
    },
    {
      "cell_type": "markdown",
      "metadata": {
        "id": "I_wQgtQCkmTk"
      },
      "source": [
        "# MLP - Grid Search hyperparameters"
      ]
    },
    {
      "cell_type": "code",
      "execution_count": 22,
      "metadata": {
        "colab": {
          "base_uri": "https://localhost:8080/"
        },
        "id": "XUH5Hgs0kmFf",
        "outputId": "002d95d3-8593-4eba-be65-f6952334f177"
      },
      "outputs": [
        {
          "output_type": "stream",
          "name": "stdout",
          "text": [
            "Rmse: 557.7716887947378, Mean squared error train:  311109.25682093384\n",
            "\n",
            "Mean Absolute Error: 375.1205990000928\n",
            "\n",
            "R2: -0.09726739350617719\n"
          ]
        }
      ],
      "source": [
        "reg = MLPRegressor(random_state=42, hidden_layer_sizes= (10, 5, 5), max_iter= 50, solver= 'lbfgs')\n",
        "reg.fit(X_train, y_train)\n",
        "\n",
        "y_pred_train = reg.predict(X_train)\n",
        "y_pred = reg.predict(X_help)\n",
        "\n",
        "rmse = np.sqrt(np.mean((y_pred_train - y_train)**2))\n",
        "mean = mean_squared_error(y_train, y_pred_train)\n",
        "print(f\"Rmse: {rmse}, Mean squared error train:  {mean}\")\n",
        "\n",
        "mae = mean_absolute_error(y_help, y_pred)\n",
        "print(\"\\nMean Absolute Error:\", mae)\n",
        "\n",
        "r2 = r2_score(y_help, y_pred)\n",
        "print(\"\\nR2:\", r2)"
      ]
    },
    {
      "cell_type": "markdown",
      "metadata": {
        "id": "2-zm5fO3rrzX"
      },
      "source": [
        "# Linear Regression - Testing dataset\n"
      ]
    },
    {
      "cell_type": "code",
      "execution_count": 23,
      "metadata": {
        "colab": {
          "base_uri": "https://localhost:8080/"
        },
        "id": "CQenHOlrrrzY",
        "outputId": "fc27c6b8-d12f-4b07-cb13-736609b47984"
      },
      "outputs": [
        {
          "output_type": "stream",
          "name": "stdout",
          "text": [
            "Rmse val: 496.9116253737426, Mean squared error val:  246921.1634315747\n",
            "Rmse: 573.2162055717955, Mean squared error train:  328576.818330127\n",
            "\n",
            "Mean Absolute Error: 376.8122452244539\n",
            "\n",
            "R2: -0.0086945221329493\n"
          ]
        }
      ],
      "source": [
        "reg = LinearRegression()\n",
        "weights_train = np.ones_like(y_train)\n",
        "\n",
        "reg.fit(X_train, y_train, sample_weight=weights_train)\n",
        "y_pred_train = reg.predict(X_train)\n",
        "y_pred = reg.predict(X_help)\n",
        "\n",
        "rmse = np.sqrt(np.mean((y_pred - y_help)**2))\n",
        "mean = mean_squared_error(y_help, y_pred)\n",
        "print(f\"Rmse val: {rmse}, Mean squared error val:  {mean}\")\n",
        "\n",
        "rmse = np.sqrt(np.mean((y_pred_train - y_train)**2))\n",
        "mean = mean_squared_error(y_train, y_pred_train)\n",
        "print(f\"Rmse: {rmse}, Mean squared error train:  {mean}\")\n",
        "\n",
        "mae = mean_absolute_error(y_help, y_pred)\n",
        "print(\"\\nMean Absolute Error:\", mae)\n",
        "\n",
        "r2 = r2_score(y_help, y_pred)\n",
        "print(\"\\nR2:\", r2)"
      ]
    },
    {
      "cell_type": "code",
      "execution_count": 26,
      "metadata": {
        "colab": {
          "base_uri": "https://localhost:8080/",
          "height": 904
        },
        "id": "41D3EwlSkmA4",
        "outputId": "fcc4c01b-6d2f-44ad-8f8d-2eb2da47c3cc"
      },
      "outputs": [
        {
          "output_type": "execute_result",
          "data": {
            "text/plain": [
              "<sklearn.metrics._plot.regression.PredictionErrorDisplay at 0x7d59b26c38e0>"
            ]
          },
          "metadata": {},
          "execution_count": 26
        },
        {
          "output_type": "display_data",
          "data": {
            "text/plain": [
              "<Figure size 640x480 with 1 Axes>"
            ],
            "image/png": "[encoded data removed]"
          },
          "metadata": {}
        },
        {
          "output_type": "display_data",
          "data": {
            "text/plain": [
              "<Figure size 640x480 with 1 Axes>"
            ],
            "image/png": "[encoded data removed]"
          },
          "metadata": {}
        }
      ],
      "source": [
        "from sklearn.metrics import PredictionErrorDisplay\n",
        "import matplotlib.pyplot as plt\n",
        "from sklearn.metrics import confusion_matrix\n",
        "PredictionErrorDisplay.from_estimator(reg, X_help, y_help,\n",
        "kind=\"residual_vs_predicted\")\n",
        "plt.ylim([-1500, 3000])\n",
        "plt.xlim([0, 1500])\n",
        "PredictionErrorDisplay.from_predictions(y_true=y_help, y_pred=y_pred,\n",
        "kind=\"actual_vs_predicted\")\n",
        "\n"
      ]
    }
  ],
  "metadata": {
    "colab": {
      "provenance": []
    },
    "kernelspec": {
      "display_name": "Python 3 (ipykernel)",
      "language": "python",
      "name": "python3"
    },
    "language_info": {
      "codemirror_mode": {
        "name": "ipython",
        "version": 3
      },
      "file_extension": ".py",
      "mimetype": "text/x-python",
      "name": "python",
      "nbconvert_exporter": "python",
      "pygments_lexer": "ipython3",
      "version": "3.9.16"
    }
  },
  "nbformat": 4,
  "nbformat_minor": 0
}