{
 "cells": [
  {
   "cell_type": "markdown",
   "id": "d249461e",
   "metadata": {
    "colab_type": "text",
    "id": "view-in-github"
   },
   "source": [
    "<a href=\"https://colab.research.google.com/github/jako323/Most-Streamed-Songs-with-Python-Machine-Learning/blob/main/research_files/KEY_model_assessment.ipynb\" target=\"_parent\"><img src=\"https://colab.research.google.com/assets/colab-badge.svg\" alt=\"Open In Colab\"/></a>"
   ]
  },
  {
   "cell_type": "code",
   "execution_count": 39,
   "id": "680bc155",
   "metadata": {
    "colab": {
     "base_uri": "https://localhost:8080/"
    },
    "id": "680bc155",
    "outputId": "e7c76f4a-02db-4883-cfeb-7a6f00fc5199"
   },
   "outputs": [],
   "source": [
    "## parameters  key and bpm have a least 20% infulence over the songs streams\n",
    "# predict key and bpm regargding all the other parameters\n",
    "import pandas as pd\n",
    "import numpy as np\n",
    "from sklearn.metrics import mean_squared_error\n",
    "from sklearn.metrics import accuracy_score\n",
    "from sklearn.model_selection import train_test_split\n",
    "from sklearn.linear_model import LinearRegression\n",
    "import matplotlib.pyplot as plt\n",
    "from sklearn.metrics import mean_squared_error\n",
    "from sklearn.neural_network import MLPRegressor\n",
    "from sklearn.preprocessing import PolynomialFeatures\n",
    "from sklearn.linear_model import LinearRegression\n",
    "from sklearn.metrics import mean_squared_error\n",
    "from sklearn.linear_model import LogisticRegression\n",
    "from sklearn.preprocessing import LabelEncoder\n",
    "from sklearn.preprocessing import StandardScaler\n",
    "from datetime import date\n",
    "from sklearn.model_selection import cross_val_score, cross_validate\n",
    "from sklearn.svm import SVR\n",
    "from sklearn import svm\n",
    "from sklearn.neural_network import MLPClassifier\n",
    "from sklearn.neighbors import KNeighborsClassifier\n",
    "from sklearn import tree\n",
    "from sklearn.model_selection import GridSearchCV\n",
    "from sklearn.model_selection import RandomizedSearchCV\n",
    "from scipy.stats import uniform\n",
    "from sklearn.metrics import mean_absolute_error\n",
    "from sklearn.metrics import r2_score\n",
    "\n",
    "import warnings\n",
    "warnings.filterwarnings(\"ignore\")\n",
    "\n",
    "#from google.colab import drive\n",
    "\n",
    "#drive.mount('/content/drive')\n",
    "#data = pd.read_csv(\"/content/drive/MyDrive/MAIN_DATASET_spotify2023.csv\")\n",
    "data = pd.read_csv(\"MAIN_DATASET_spotify2023.csv\")\n",
    "data.head()\n",
    "encoder = LabelEncoder()\n",
    "data[\"key\"] = encoder.fit_transform(data[\"key\"])\n",
    "data[\"mode\"] = encoder.fit_transform(data[\"mode\"])\n",
    "released_day_of_year = []\n",
    "\n",
    "for i in range(len(data.index)):\n",
    "    day_of_year = date(data['released_year'][i],\n",
    "                    data['released_month'][i],\n",
    "                    data['released_day'][i]).timetuple().tm_yday\n",
    "    released_day_of_year.append(day_of_year)\n",
    "\n",
    "# add new series to dataframe\n",
    "data.insert(len(data.columns), \"released_day_of_year\", released_day_of_year, True)\n",
    "\n",
    "data = data[[\"released_day_of_year\", 'key', 'mode', 'danceability_%', 'valence_%', 'energy_%','acousticness_%', 'instrumentalness_%', 'liveness_%', 'speechiness_%']]"
   ]
  },
  {
   "cell_type": "code",
   "execution_count": 40,
   "id": "2a50b4a1",
   "metadata": {
    "colab": {
     "base_uri": "https://localhost:8080/"
    },
    "id": "2a50b4a1",
    "outputId": "1428aaeb-33c1-4d25-b5e7-09deda056081"
   },
   "outputs": [],
   "source": [
    "X = data.drop(\"key\", axis = 1)\n",
    "y = data[\"key\"]\n",
    "\n",
    "X_train, X_test, y_train, y_test = train_test_split(X, y, test_size=0.2, random_state=42)\n",
    "#X_val, X_test, y_val, y_test = train_test_split(X_help, y_help, test_size=0.5, random_state=42)\n",
    "\n",
    "#val_percent = (len(X_val)/(len(data)))*100\n",
    "#test_percent = (len(X_test)/(len(data)))*100\n",
    "#train_percent = (len(X_train)/(len(data)))*100\n",
    "#print(f\"Percent of Train: {train_percent:.2f} ,Validation:{val_percent:.2f} and Test dataset:{test_percent:.2f} \")\n"
   ]
  },
  {
   "cell_type": "markdown",
   "id": "478af46f",
   "metadata": {
    "id": "478af46f"
   },
   "source": [
    "## Task 1,2"
   ]
  },
  {
   "cell_type": "code",
   "execution_count": 41,
   "id": "46648798",
   "metadata": {
    "colab": {
     "base_uri": "https://localhost:8080/"
    },
    "id": "46648798",
    "outputId": "639c0332-4898-453a-85eb-040c9aa153f9"
   },
   "outputs": [
    {
     "name": "stdout",
     "output_type": "stream",
     "text": [
      "mean of 3-folds cross_validation: 3.5593314868662365\n",
      "mean of 5-folds cross_validation: 3.549688471995996\n",
      "mean of 10-folds cross_validation: 3.5502372033050804\n",
      "\n",
      "Rmse_val: 3.4177158848114684, Mean_val:  11.680781869292638\n",
      "Rmse_train: 3.498454364031398, Mean_train:  12.239182937210334\n"
     ]
    }
   ],
   "source": [
    "reg = LinearRegression()\n",
    "weights_train = np.ones_like(y_train)\n",
    "np.random.seed(42)\n",
    "random_weights = np.random.rand(len(y_train))\n",
    "\n",
    "reg.fit(X_train, y_train, sample_weight=weights_train)\n",
    "y_pred_train = reg.predict(X_train)\n",
    "y_pred = reg.predict(X_val)\n",
    "\n",
    "cv_values = [3,5,10]\n",
    "for k in cv_values:\n",
    "    scores = cross_val_score(reg, X_train, y_train, cv=k, scoring='neg_root_mean_squared_error')\n",
    "    #print(scores)\n",
    "    mean_cross = scores.mean()\n",
    "    # chcek if minus is good for rmse without negative\n",
    "    print(f\"mean of {k}-folds cross_validation: {-mean_cross}\")\n",
    "\n",
    "rmse_val = np.sqrt(np.mean((y_pred - y_val)**2))\n",
    "mean_val = mean_squared_error(y_val, y_pred)\n",
    "\n",
    "rmse = np.sqrt(np.mean((y_pred_train - y_train)**2))\n",
    "mean = mean_squared_error(y_train, y_pred_train)\n",
    "print(f\"\\nRmse_val: {rmse_val}, Mean_val:  {mean_val}\")\n",
    "print(f\"Rmse_train: {rmse}, Mean_train:  {mean}\")"
   ]
  },
  {
   "cell_type": "markdown",
   "id": "823a22bb",
   "metadata": {
    "id": "823a22bb"
   },
   "source": [
    "##  Task3 neural regresor"
   ]
  },
  {
   "cell_type": "code",
   "execution_count": 42,
   "id": "d80e20f7",
   "metadata": {
    "colab": {
     "base_uri": "https://localhost:8080/"
    },
    "id": "d80e20f7",
    "outputId": "a1368f4d-108e-4a92-d2f7-c792e79ea895"
   },
   "outputs": [
    {
     "name": "stdout",
     "output_type": "stream",
     "text": [
      "mean of 3-folds cross_validation: 3.565829976508873\n",
      "mean of 5-folds cross_validation: 3.559791627088964\n",
      "mean of 10-folds cross_validation: 3.5444137072425805\n",
      "\n",
      "Rmse_val: 3.43416258948091, Mean_val:  11.79347269099023\n",
      "Rmse_train: 3.548409472105155, Mean_train:  12.591209781725583\n"
     ]
    }
   ],
   "source": [
    "\n",
    "\n",
    "reg = MLPRegressor(hidden_layer_sizes=(5, 6, 5), random_state=50, max_iter=50, solver='lbfgs')\n",
    "reg.fit(X_train, y_train)\n",
    "y_pred_train = reg.predict(X_train)\n",
    "y_pred = reg.predict(X_val)\n",
    "cv_values = [3,5,10]\n",
    "for k in cv_values:\n",
    "    scores = cross_val_score(reg, X_train, y_train, cv=k, scoring='neg_root_mean_squared_error')\n",
    "    #print(scores)\n",
    "    mean_cross = scores.mean()\n",
    "    # chcek if minus is good for rmse without negative\n",
    "    print(f\"mean of {k}-folds cross_validation: {-mean_cross}\")\n",
    "\n",
    "rmse_val = np.sqrt(np.mean((y_pred - y_val)**2))\n",
    "mean_val = mean_squared_error(y_val, y_pred)\n",
    "\n",
    "rmse = np.sqrt(np.mean((y_pred_train - y_train)**2))\n",
    "mean = mean_squared_error(y_train, y_pred_train)\n",
    "print(f\"\\nRmse_val: {rmse_val}, Mean_val:  {mean_val}\")\n",
    "print(f\"Rmse_train: {rmse}, Mean_train:  {mean}\")"
   ]
  },
  {
   "cell_type": "markdown",
   "id": "ec294116",
   "metadata": {
    "id": "ec294116"
   },
   "source": [
    "## Grid Search"
   ]
  },
  {
   "cell_type": "code",
   "execution_count": 43,
   "id": "0f151cee",
   "metadata": {
    "colab": {
     "base_uri": "https://localhost:8080/"
    },
    "id": "0f151cee",
    "outputId": "815b710a-0b10-4c62-cf93-765d47290f3c"
   },
   "outputs": [
    {
     "name": "stdout",
     "output_type": "stream",
     "text": [
      "{'hidden_layer_sizes': (5, 10, 5), 'max_iter': 150, 'random_state': 100, 'solver': 'sgd'}\n",
      "MLPRegressor(hidden_layer_sizes=(5, 10, 5), max_iter=150, random_state=100,\n",
      "             solver='sgd')\n",
      "-3.5277957955187604\n"
     ]
    }
   ],
   "source": [
    "\n",
    "\n",
    "\n",
    "parameters = {'max_iter' : [50,100,150,400,800],'solver':('lbfgs', 'sgd', 'adam'), 'hidden_layer_sizes':[(10, 5, 5), (5, 10, 5), (5, 5, 10),(5,5), (5,10)], \"random_state\" :[50,100,150,200]}\n",
    "#parameters = {'solver':('lbfgs', 'sgd', 'adam'),  \"random_state\" :[50]}\n",
    "grid_search = GridSearchCV(reg, parameters, cv=5, scoring='neg_root_mean_squared_error')\n",
    "grid_search.fit(X_train, y_train)\n",
    "print(grid_search.best_params_) # to get the best parameters\n",
    "print(grid_search.best_estimator_)\n",
    "print(grid_search.best_score_)# to get the best estimator\n",
    "#print(grid_search.cv_results_) # to get all results\n",
    "\n"
   ]
  },
  {
   "cell_type": "markdown",
   "id": "822d3fcf",
   "metadata": {
    "id": "822d3fcf"
   },
   "source": [
    "## Random Search"
   ]
  },
  {
   "cell_type": "code",
   "execution_count": 44,
   "id": "33c36150",
   "metadata": {
    "colab": {
     "base_uri": "https://localhost:8080/"
    },
    "id": "33c36150",
    "outputId": "8c1948bb-ebc4-4da7-9ff3-c57127f06a6d"
   },
   "outputs": [
    {
     "name": "stdout",
     "output_type": "stream",
     "text": [
      "{'alpha': 0.45370381853954544, 'solver': 'lbfgs'}\n",
      "MLPRegressor(alpha=0.45370381853954544, hidden_layer_sizes=(5, 5, 10),\n",
      "             max_iter=50, random_state=50, solver='lbfgs')\n",
      "-3.6031625485863685\n"
     ]
    }
   ],
   "source": [
    "\n",
    "logistic = MLPRegressor(hidden_layer_sizes=(5, 5, 10), random_state=50, max_iter = 50 )\n",
    "distributions = dict(alpha=uniform(loc=0, scale=8), solver =['lbfgs', 'sgd', 'adam'])\n",
    "Random_search = RandomizedSearchCV(logistic, distributions, random_state=0, scoring='neg_root_mean_squared_error')\n",
    "Random_search.fit(X_train, y_train)\n",
    "print(Random_search.best_params_) # to get the best parameters\n",
    "print(Random_search.best_estimator_)\n",
    "print(Random_search.best_score_)"
   ]
  },
  {
   "cell_type": "markdown",
   "id": "6f3e3f23",
   "metadata": {
    "id": "6f3e3f23"
   },
   "source": [
    "## Task 4  Polynomial reggresor"
   ]
  },
  {
   "cell_type": "code",
   "execution_count": 45,
   "id": "e7ff166b",
   "metadata": {
    "colab": {
     "base_uri": "https://localhost:8080/"
    },
    "id": "e7ff166b",
    "outputId": "a7296576-78cc-4b68-e794-bb85af10b277"
   },
   "outputs": [
    {
     "name": "stdout",
     "output_type": "stream",
     "text": [
      "mean of 3-folds cross_validation: 3.5593314868662365\n",
      "mean of 5-folds cross_validation: 3.549688471995996\n",
      "mean of 10-folds cross_validation: 3.5502372033050804\n",
      "\n",
      "r2: -0.004040137509725849\n",
      "mean_abs_error: -3.145777542310018\n",
      "\n",
      "Rmse_val: 3.5555497422211295, Mean_val:  12.641933969408742\n",
      "Rmse_train: 3.392152455578089, Mean_train:  11.506698281884457\n"
     ]
    }
   ],
   "source": [
    "# Create polynomial features\n",
    "poly_features = PolynomialFeatures(degree = 2) #4 poziom najlepszy\n",
    "X_train_poly = poly_features.fit_transform(X_train)\n",
    "X_val_poly = poly_features.fit_transform(X_val)\n",
    "\n",
    "reg = LinearRegression()\n",
    "reg.fit(X_train_poly, y_train)\n",
    "\n",
    "y_pred_train = reg.predict(X_train_poly)\n",
    "y_pred = reg.predict(X_val_poly)\n",
    "\n",
    "rmse_val = np.sqrt(np.mean((y_pred - y_val)**2))\n",
    "mean_val = mean_squared_error(y_val, y_pred)\n",
    "\n",
    "cv_values = [3,5,10]\n",
    "for k in cv_values:\n",
    "    scores_val_score = cross_val_score(reg, X_train, y_train, cv=k, scoring='neg_root_mean_squared_error')\n",
    "    #print(scores)\n",
    "    mean_cross = scores_val_score.mean()\n",
    "    # chcek if minus is good for rmse without negative\n",
    "    print(f\"mean of {k}-folds cross_validation: {-mean_cross}\")\n",
    "\n",
    "\n",
    "scores = cross_validate(reg, X_train, y_train, cv=5,scoring=['r2','neg_mean_absolute_error'])\n",
    "print(f\"\\nr2: {scores['test_r2'].mean()}\")\n",
    "print(f\"mean_abs_error: {scores['test_neg_mean_absolute_error'].mean()}\")\n",
    "#print(scores['fit_time'])\n",
    "#print(scores['score_time'])\n",
    "\n",
    "\n",
    "rmse = np.sqrt(np.mean((y_pred_train - y_train)**2))\n",
    "mean = mean_squared_error(y_train, y_pred_train)\n",
    "\n",
    "print(f\"\\nRmse_val: {rmse_val}, Mean_val:  {mean_val}\")\n",
    "print(f\"Rmse_train: {rmse}, Mean_train:  {mean}\")\n"
   ]
  },
  {
   "cell_type": "markdown",
   "id": "bf481641",
   "metadata": {
    "id": "bf481641"
   },
   "source": [
    "## SVM"
   ]
  },
  {
   "cell_type": "code",
   "execution_count": 46,
   "id": "201ac119",
   "metadata": {
    "colab": {
     "base_uri": "https://localhost:8080/"
    },
    "id": "201ac119",
    "outputId": "d7b9a104-2fba-4292-ae1e-5f978d70ae33"
   },
   "outputs": [
    {
     "name": "stdout",
     "output_type": "stream",
     "text": [
      "mean of 3-folds cross_validation rmse: 5.8372742111397535\n",
      "mean of 5-folds cross_validation rmse: 7.6676810729176\n",
      "mean of 10-folds cross_validation rmse: 8.035770303042364\n",
      "\n",
      "r2: -4.0252255816352935\n",
      "mean_abs_error: -6.632517566321079\n",
      "\n",
      "Rmse_val: 8.599616969802858, Mean_val:  73.95341202732129\n",
      "Rmse_train: 8.543881219005394, Mean_train:  72.9979062844731\n",
      "\n",
      "Mean Absolute Error: 7.756823412268719\n"
     ]
    }
   ],
   "source": [
    "\n",
    "# Kernels: {‘linear’, ‘poly’, ‘rbf’, ‘sigmoid’, ‘precomputed’}\n",
    "#linear the best but the longest so most complicated\n",
    "\n",
    "reg = SVR(C=2, epsilon=0.2, kernel='poly', max_iter=50)\n",
    "reg.fit(X_train, y_train)\n",
    "\n",
    "y_pred_train = reg.predict(X_train)\n",
    "y_pred = reg.predict(X_val)\n",
    "\n",
    "rmse_val = np.sqrt(np.mean((y_pred - y_val)**2))\n",
    "mean_val = mean_squared_error(y_val, y_pred)\n",
    "\n",
    "cv_values = [3,5,10]\n",
    "for k in cv_values:\n",
    "    scores_val_score = cross_val_score(reg, X_train, y_train, cv=k, scoring='neg_root_mean_squared_error')\n",
    "    #print(scores)\n",
    "    mean_cross = scores_val_score.mean()\n",
    "    # chcek if minus is good for rmse without negative\n",
    "    print(f\"mean of {k}-folds cross_validation rmse: {-mean_cross}\")\n",
    "\n",
    "scores = cross_validate(reg, X_train, y_train, cv=5,scoring=['r2','neg_mean_absolute_error'])\n",
    "\n",
    "print(f\"\\nr2: {scores['test_r2'].mean()}\")\n",
    "print(f\"mean_abs_error: {scores['test_neg_mean_absolute_error'].mean()}\")\n",
    "\n",
    "\n",
    "\n",
    "rmse = np.sqrt(np.mean((y_pred_train - y_train)**2))\n",
    "mean = mean_squared_error(y_train, y_pred_train)\n",
    "\n",
    "print(f\"\\nRmse_val: {rmse_val}, Mean_val:  {mean_val}\")\n",
    "print(f\"Rmse_train: {rmse}, Mean_train:  {mean}\")\n",
    "\n",
    "mae = mean_absolute_error(y_val, y_pred)\n",
    "print(\"\\nMean Absolute Error:\", mae)\n",
    "\n"
   ]
  },
  {
   "cell_type": "code",
   "execution_count": 47,
   "id": "c0979855",
   "metadata": {
    "colab": {
     "base_uri": "https://localhost:8080/"
    },
    "id": "c0979855",
    "outputId": "c1bee7b0-11ca-4775-c1fb-1c7ec52cef2b"
   },
   "outputs": [
    {
     "name": "stdout",
     "output_type": "stream",
     "text": [
      "{'kernel': 'rbf', 'max_iter': 400}\n",
      "SVR(C=2, epsilon=0.2, max_iter=400)\n",
      "-3.597546869875308\n"
     ]
    }
   ],
   "source": [
    "#GridSearch\n",
    "parameters = {'max_iter' : [50,100,150,400,800],'kernel':('linear', 'poly', 'rbf', 'sigmoid')}\n",
    "#parameters = {'solver':('lbfgs', 'sgd', 'adam'),  \"random_state\" :[50]}\n",
    "grid_search = GridSearchCV(reg, parameters, cv=5, scoring='neg_root_mean_squared_error')\n",
    "grid_search.fit(X_train, y_train)\n",
    "\n",
    "print(grid_search.best_params_) # to get the best parameters\n",
    "print(grid_search.best_estimator_)\n",
    "print(grid_search.best_score_)# to get the best estimator\n",
    "#print(grid_search.cv_results_) # to get all results\n"
   ]
  },
  {
   "cell_type": "code",
   "execution_count": 48,
   "id": "f86853c8",
   "metadata": {
    "colab": {
     "base_uri": "https://localhost:8080/"
    },
    "id": "f86853c8",
    "outputId": "71a4b27c-7b19-4ac2-fcf6-491b9163747f"
   },
   "outputs": [
    {
     "name": "stdout",
     "output_type": "stream",
     "text": [
      "{'C': 5.4881350392732475, 'coef0': 7.151893663724195, 'epsilon': 6.027633760716439}\n",
      "SVR(C=5.4881350392732475, coef0=7.151893663724195, epsilon=6.027633760716439,\n",
      "    kernel='poly', max_iter=400)\n",
      "-3.5544707653707177\n"
     ]
    }
   ],
   "source": [
    "#RandomSearch\n",
    "logistic = SVR( epsilon=0.2, kernel='poly', max_iter=400)\n",
    "distributions = dict(C=uniform(loc=0, scale=10), coef0 =uniform(loc=0, scale=10), epsilon= uniform(loc=0, scale=10))\n",
    "Random_search = RandomizedSearchCV(logistic, distributions, random_state=0, scoring='neg_root_mean_squared_error')\n",
    "Random_search.fit(X_train, y_train)\n",
    "print(Random_search.best_params_) # to get the best parameters\n",
    "print(Random_search.best_estimator_)\n",
    "print(Random_search.best_score_)"
   ]
  },
  {
   "cell_type": "markdown",
   "id": "4f1dcd76",
   "metadata": {
    "id": "4f1dcd76"
   },
   "source": [
    "## SVM model with best  parameters"
   ]
  },
  {
   "cell_type": "code",
   "execution_count": 49,
   "id": "d7eb5ecb",
   "metadata": {},
   "outputs": [
    {
     "name": "stdout",
     "output_type": "stream",
     "text": [
      "\n",
      "Rmse_test: 3.4442075206099556, Mean_test:  11.862565445026178\n",
      "Rmse: 3.556240466409397, Mean:  12.646846254927727\n",
      "\n",
      "Mean Absolute Error: 3.075916230366492\n",
      "\n",
      "R2: -0.005927946481701918\n"
     ]
    }
   ],
   "source": [
    "reg = SVR(C=5.4881350392732475, coef0=7.151893663724195, epsilon=6.027633760716439, kernel='poly', max_iter=400)\n",
    "reg.fit(X_train, y_train)\n",
    "\n",
    "y_pred_train = reg.predict(X_train)\n",
    "y_pred_test = reg.predict(X_test)\n",
    "\n",
    "rmse_test = np.sqrt(np.mean((y_pred_test - y_test)**2))\n",
    "mean_test = mean_squared_error(y_test, y_pred_test)\n",
    "\n",
    "\n",
    "rmse = np.sqrt(np.mean((y_pred_train - y_train)**2))\n",
    "mean = mean_squared_error(y_train, y_pred_train)\n",
    "\n",
    "print(f\"\\nRmse_test: {rmse_test}, Mean_test:  {mean_test}\")\n",
    "print(f\"Rmse: {rmse}, Mean:  {mean}\")\n",
    "\n",
    "mae = mean_absolute_error(y_test, y_pred_test)\n",
    "print(\"\\nMean Absolute Error:\", mae)\n",
    "\n",
    "r2 = r2_score(y_test, y_pred_test)\n",
    "print(\"\\nR2:\", r2)"
   ]
  },
  {
   "cell_type": "markdown",
   "id": "5285c8e3",
   "metadata": {},
   "source": [
    "## Linear regression with test dataset"
   ]
  },
  {
   "cell_type": "code",
   "execution_count": 50,
   "id": "fd9e2bb2",
   "metadata": {
    "colab": {
     "base_uri": "https://localhost:8080/"
    },
    "id": "fd9e2bb2",
    "outputId": "04d0fff8-2848-4413-bc09-0ddcd48178fb"
   },
   "outputs": [
    {
     "name": "stdout",
     "output_type": "stream",
     "text": [
      "\n",
      "Rmse_test: 3.4177158848114684, Mean_test:  11.680781869292638\n",
      "Rmse: 3.498454364031398, Mean:  12.239182937210334\n",
      "\n",
      "Mean Absolute Error: 3.0643993252985853\n",
      "\n",
      "R2: 0.00948703098579129\n"
     ]
    }
   ],
   "source": [
    "reg = LinearRegression()\n",
    "weights_train = np.ones_like(y_train)\n",
    "np.random.seed(42)\n",
    "random_weights = np.random.rand(len(y_train))\n",
    "\n",
    "reg.fit(X_train, y_train, sample_weight=weights_train)\n",
    "\n",
    "y_pred_train = reg.predict(X_train)\n",
    "y_pred = reg.predict(X_test)\n",
    "\n",
    "rmse_test = np.sqrt(np.mean((y_pred - y_test)**2))\n",
    "mean_test = mean_squared_error(y_test, y_pred)\n",
    "\n",
    "\n",
    "rmse = np.sqrt(np.mean((y_pred_train - y_train)**2))\n",
    "mean = mean_squared_error(y_train, y_pred_train)\n",
    "\n",
    "print(f\"\\nRmse_test: {rmse_test}, Mean_test:  {mean_test}\")\n",
    "print(f\"Rmse: {rmse}, Mean:  {mean}\")\n",
    "\n",
    "mae = mean_absolute_error(y_test, y_pred)\n",
    "print(\"\\nMean Absolute Error:\", mae)\n",
    "\n",
    "r2 = r2_score(y_test, y_pred)\n",
    "print(\"\\nR2:\", r2)"
   ]
  },
  {
   "cell_type": "markdown",
   "id": "5b1c3cee",
   "metadata": {
    "id": "5b1c3cee"
   },
   "source": [
    "# Final Assessment of the model"
   ]
  },
  {
   "cell_type": "code",
   "execution_count": 51,
   "id": "44b4bd3d",
   "metadata": {
    "colab": {
     "base_uri": "https://localhost:8080/",
     "height": 898
    },
    "id": "44b4bd3d",
    "outputId": "afbefb53-53bd-423f-d347-abc48f0b97f9"
   },
   "outputs": [
    {
     "data": {
      "text/plain": [
       "<sklearn.metrics._plot.regression.PredictionErrorDisplay at 0x2a05eb21ac0>"
      ]
     },
     "execution_count": 51,
     "metadata": {},
     "output_type": "execute_result"
    },
    {
     "data": {
      "image/png": "[encoded data removed]",
      "text/plain": [
       "<Figure size 640x480 with 1 Axes>"
      ]
     },
     "metadata": {},
     "output_type": "display_data"
    },
    {
     "data": {
      "image/png": "[encoded data removed]",
      "text/plain": [
       "<Figure size 640x480 with 1 Axes>"
      ]
     },
     "metadata": {},
     "output_type": "display_data"
    }
   ],
   "source": [
    "from sklearn.metrics import PredictionErrorDisplay\n",
    "from sklearn.metrics import confusion_matrix\n",
    "PredictionErrorDisplay.from_estimator(reg, X_test, y_test,\n",
    "kind=\"residual_vs_predicted\")\n",
    "PredictionErrorDisplay.from_predictions(y_true=y_test, y_pred=y_pred,\n",
    "kind=\"actual_vs_predicted\")\n"
   ]
  },
  {
   "cell_type": "markdown",
   "id": "e507e1c3",
   "metadata": {
    "id": "e507e1c3"
   },
   "source": [
    "## Pipeline"
   ]
  },
  {
   "cell_type": "code",
   "execution_count": 52,
   "id": "117877e0",
   "metadata": {
    "colab": {
     "base_uri": "https://localhost:8080/"
    },
    "id": "117877e0",
    "outputId": "f59ec1a8-607b-461c-fc18-1ec9a7fb538c"
   },
   "outputs": [
    {
     "name": "stdout",
     "output_type": "stream",
     "text": [
      "Accuracy train: 0.9592641261498029, accuracy validation: 0.09424083769633508\n"
     ]
    }
   ],
   "source": [
    "from sklearn.pipeline import Pipeline\n",
    "from sklearn.preprocessing import StandardScaler\n",
    "clf_mlp1 = Pipeline([(\"scaler\", StandardScaler()), (\"mlp\", MLPClassifier(max_iter=5000, random_state=1, solver='adam', alpha =0.0001))])\n",
    "clf_mlp1.fit(X_train, y_train)\n",
    "\n",
    "y_pred_train = clf_mlp1.predict(X_train)\n",
    "y_pred = clf_mlp1.predict(X_val)\n",
    "\n",
    "\n",
    "acc_train = accuracy_score(y_train, y_pred_train)\n",
    "acc_val = accuracy_score(y_val, y_pred)\n",
    "print(f\"Accuracy train: {acc_train}, accuracy validation: {acc_val}\")\n"
   ]
  }
 ],
 "metadata": {
  "colab": {
   "include_colab_link": true,
   "provenance": []
  },
  "kernelspec": {
   "display_name": "Python 3 (ipykernel)",
   "language": "python",
   "name": "python3"
  },
  "language_info": {
   "codemirror_mode": {
    "name": "ipython",
    "version": 3
   },
   "file_extension": ".py",
   "mimetype": "text/x-python",
   "name": "python",
   "nbconvert_exporter": "python",
   "pygments_lexer": "ipython3",
   "version": "3.9.16"
  }
 },
 "nbformat": 4,
 "nbformat_minor": 5
}
