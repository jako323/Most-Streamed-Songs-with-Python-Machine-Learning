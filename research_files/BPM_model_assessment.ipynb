{
  "cells": [
    {
      "cell_type": "code",
      "execution_count": 41,
      "id": "680bc155",
      "metadata": {
        "colab": {
          "base_uri": "https://localhost:8080/",
          "height": 424
        },
        "id": "680bc155",
        "outputId": "2943cb49-4326-4ecf-ab01-50e753514bc3"
      },
      "outputs": [
        {
          "output_type": "execute_result",
          "data": {
            "text/plain": [
              "     released_day_of_year  bpm  key  mode  danceability_%  valence_%  \\\n",
              "0                     195  125    2     0              80         89   \n",
              "1                      82   92    3     0              71         61   \n",
              "2                     181  138    7     0              51         32   \n",
              "3                     235  170    0     0              55         58   \n",
              "4                     138  144    0     1              65         23   \n",
              "..                    ...  ...  ...   ...             ...        ...   \n",
              "947                   307  144    0     0              60         24   \n",
              "948                   294  166    8     0              42          7   \n",
              "949                   307   92    3     0              80         81   \n",
              "950                   293   97    3     0              82         67   \n",
              "951                   308   90    6     1              61         32   \n",
              "\n",
              "     energy_%  acousticness_%  instrumentalness_%  liveness_%  speechiness_%  \n",
              "0          83              31                   0           8              4  \n",
              "1          74               7                   0          10              4  \n",
              "2          53              17                   0          31              6  \n",
              "3          72              11                   0          11             15  \n",
              "4          80              14                  63          11              6  \n",
              "..        ...             ...                 ...         ...            ...  \n",
              "947        39              57                   0           8              3  \n",
              "948        24              83                   1          12              6  \n",
              "949        67               4                   0           8              6  \n",
              "950        77               8                   0          12              5  \n",
              "951        67              15                   0          11              5  \n",
              "\n",
              "[952 rows x 11 columns]"
            ],
            "text/html": [
              "\n",
              "  <div id=\"df-01a23b81-2026-43b8-ae18-f0bfe79f65ba\" class=\"colab-df-container\">\n",
              "    <div>\n",
              "<style scoped>\n",
              "    .dataframe tbody tr th:only-of-type {\n",
              "        vertical-align: middle;\n",
              "    }\n",
              "\n",
              "    .dataframe tbody tr th {\n",
              "        vertical-align: top;\n",
              "    }\n",
              "\n",
              "    .dataframe thead th {\n",
              "        text-align: right;\n",
              "    }\n",
              "</style>\n",
              "<table border=\"1\" class=\"dataframe\">\n",
              "  <thead>\n",
              "    <tr style=\"text-align: right;\">\n",
              "      <th></th>\n",
              "      <th>released_day_of_year</th>\n",
              "      <th>bpm</th>\n",
              "      <th>key</th>\n",
              "      <th>mode</th>\n",
              "      <th>danceability_%</th>\n",
              "      <th>valence_%</th>\n",
              "      <th>energy_%</th>\n",
              "      <th>acousticness_%</th>\n",
              "      <th>instrumentalness_%</th>\n",
              "      <th>liveness_%</th>\n",
              "      <th>speechiness_%</th>\n",
              "    </tr>\n",
              "  </thead>\n",
              "  <tbody>\n",
              "    <tr>\n",
              "      <th>0</th>\n",
              "      <td>195</td>\n",
              "      <td>125</td>\n",
              "      <td>2</td>\n",
              "      <td>0</td>\n",
              "      <td>80</td>\n",
              "      <td>89</td>\n",
              "      <td>83</td>\n",
              "      <td>31</td>\n",
              "      <td>0</td>\n",
              "      <td>8</td>\n",
              "      <td>4</td>\n",
              "    </tr>\n",
              "    <tr>\n",
              "      <th>1</th>\n",
              "      <td>82</td>\n",
              "      <td>92</td>\n",
              "      <td>3</td>\n",
              "      <td>0</td>\n",
              "      <td>71</td>\n",
              "      <td>61</td>\n",
              "      <td>74</td>\n",
              "      <td>7</td>\n",
              "      <td>0</td>\n",
              "      <td>10</td>\n",
              "      <td>4</td>\n",
              "    </tr>\n",
              "    <tr>\n",
              "      <th>2</th>\n",
              "      <td>181</td>\n",
              "      <td>138</td>\n",
              "      <td>7</td>\n",
              "      <td>0</td>\n",
              "      <td>51</td>\n",
              "      <td>32</td>\n",
              "      <td>53</td>\n",
              "      <td>17</td>\n",
              "      <td>0</td>\n",
              "      <td>31</td>\n",
              "      <td>6</td>\n",
              "    </tr>\n",
              "    <tr>\n",
              "      <th>3</th>\n",
              "      <td>235</td>\n",
              "      <td>170</td>\n",
              "      <td>0</td>\n",
              "      <td>0</td>\n",
              "      <td>55</td>\n",
              "      <td>58</td>\n",
              "      <td>72</td>\n",
              "      <td>11</td>\n",
              "      <td>0</td>\n",
              "      <td>11</td>\n",
              "      <td>15</td>\n",
              "    </tr>\n",
              "    <tr>\n",
              "      <th>4</th>\n",
              "      <td>138</td>\n",
              "      <td>144</td>\n",
              "      <td>0</td>\n",
              "      <td>1</td>\n",
              "      <td>65</td>\n",
              "      <td>23</td>\n",
              "      <td>80</td>\n",
              "      <td>14</td>\n",
              "      <td>63</td>\n",
              "      <td>11</td>\n",
              "      <td>6</td>\n",
              "    </tr>\n",
              "    <tr>\n",
              "      <th>...</th>\n",
              "      <td>...</td>\n",
              "      <td>...</td>\n",
              "      <td>...</td>\n",
              "      <td>...</td>\n",
              "      <td>...</td>\n",
              "      <td>...</td>\n",
              "      <td>...</td>\n",
              "      <td>...</td>\n",
              "      <td>...</td>\n",
              "      <td>...</td>\n",
              "      <td>...</td>\n",
              "    </tr>\n",
              "    <tr>\n",
              "      <th>947</th>\n",
              "      <td>307</td>\n",
              "      <td>144</td>\n",
              "      <td>0</td>\n",
              "      <td>0</td>\n",
              "      <td>60</td>\n",
              "      <td>24</td>\n",
              "      <td>39</td>\n",
              "      <td>57</td>\n",
              "      <td>0</td>\n",
              "      <td>8</td>\n",
              "      <td>3</td>\n",
              "    </tr>\n",
              "    <tr>\n",
              "      <th>948</th>\n",
              "      <td>294</td>\n",
              "      <td>166</td>\n",
              "      <td>8</td>\n",
              "      <td>0</td>\n",
              "      <td>42</td>\n",
              "      <td>7</td>\n",
              "      <td>24</td>\n",
              "      <td>83</td>\n",
              "      <td>1</td>\n",
              "      <td>12</td>\n",
              "      <td>6</td>\n",
              "    </tr>\n",
              "    <tr>\n",
              "      <th>949</th>\n",
              "      <td>307</td>\n",
              "      <td>92</td>\n",
              "      <td>3</td>\n",
              "      <td>0</td>\n",
              "      <td>80</td>\n",
              "      <td>81</td>\n",
              "      <td>67</td>\n",
              "      <td>4</td>\n",
              "      <td>0</td>\n",
              "      <td>8</td>\n",
              "      <td>6</td>\n",
              "    </tr>\n",
              "    <tr>\n",
              "      <th>950</th>\n",
              "      <td>293</td>\n",
              "      <td>97</td>\n",
              "      <td>3</td>\n",
              "      <td>0</td>\n",
              "      <td>82</td>\n",
              "      <td>67</td>\n",
              "      <td>77</td>\n",
              "      <td>8</td>\n",
              "      <td>0</td>\n",
              "      <td>12</td>\n",
              "      <td>5</td>\n",
              "    </tr>\n",
              "    <tr>\n",
              "      <th>951</th>\n",
              "      <td>308</td>\n",
              "      <td>90</td>\n",
              "      <td>6</td>\n",
              "      <td>1</td>\n",
              "      <td>61</td>\n",
              "      <td>32</td>\n",
              "      <td>67</td>\n",
              "      <td>15</td>\n",
              "      <td>0</td>\n",
              "      <td>11</td>\n",
              "      <td>5</td>\n",
              "    </tr>\n",
              "  </tbody>\n",
              "</table>\n",
              "<p>952 rows × 11 columns</p>\n",
              "</div>\n",
              "    <div class=\"colab-df-buttons\">\n",
              "\n",
              "  <div class=\"colab-df-container\">\n",
              "    <button class=\"colab-df-convert\" onclick=\"convertToInteractive('df-01a23b81-2026-43b8-ae18-f0bfe79f65ba')\"\n",
              "            title=\"Convert this dataframe to an interactive table.\"\n",
              "            style=\"display:none;\">\n",
              "\n",
              "  <svg xmlns=\"http://www.w3.org/2000/svg\" height=\"24px\" viewBox=\"0 -960 960 960\">\n",
              "    <path d=\"M120-120v-720h720v720H120Zm60-500h600v-160H180v160Zm220 220h160v-160H400v160Zm0 220h160v-160H400v160ZM180-400h160v-160H180v160Zm440 0h160v-160H620v160ZM180-180h160v-160H180v160Zm440 0h160v-160H620v160Z\"/>\n",
              "  </svg>\n",
              "    </button>\n",
              "\n",
              "  <style>\n",
              "    .colab-df-container {\n",
              "      display:flex;\n",
              "      gap: 12px;\n",
              "    }\n",
              "\n",
              "    .colab-df-convert {\n",
              "      background-color: #E8F0FE;\n",
              "      border: none;\n",
              "      border-radius: 50%;\n",
              "      cursor: pointer;\n",
              "      display: none;\n",
              "      fill: #1967D2;\n",
              "      height: 32px;\n",
              "      padding: 0 0 0 0;\n",
              "      width: 32px;\n",
              "    }\n",
              "\n",
              "    .colab-df-convert:hover {\n",
              "      background-color: #E2EBFA;\n",
              "      box-shadow: 0px 1px 2px rgba(60, 64, 67, 0.3), 0px 1px 3px 1px rgba(60, 64, 67, 0.15);\n",
              "      fill: #174EA6;\n",
              "    }\n",
              "\n",
              "    .colab-df-buttons div {\n",
              "      margin-bottom: 4px;\n",
              "    }\n",
              "\n",
              "    [theme=dark] .colab-df-convert {\n",
              "      background-color: #3B4455;\n",
              "      fill: #D2E3FC;\n",
              "    }\n",
              "\n",
              "    [theme=dark] .colab-df-convert:hover {\n",
              "      background-color: #434B5C;\n",
              "      box-shadow: 0px 1px 3px 1px rgba(0, 0, 0, 0.15);\n",
              "      filter: drop-shadow(0px 1px 2px rgba(0, 0, 0, 0.3));\n",
              "      fill: #FFFFFF;\n",
              "    }\n",
              "  </style>\n",
              "\n",
              "    <script>\n",
              "      const buttonEl =\n",
              "        document.querySelector('#df-01a23b81-2026-43b8-ae18-f0bfe79f65ba button.colab-df-convert');\n",
              "      buttonEl.style.display =\n",
              "        google.colab.kernel.accessAllowed ? 'block' : 'none';\n",
              "\n",
              "      async function convertToInteractive(key) {\n",
              "        const element = document.querySelector('#df-01a23b81-2026-43b8-ae18-f0bfe79f65ba');\n",
              "        const dataTable =\n",
              "          await google.colab.kernel.invokeFunction('convertToInteractive',\n",
              "                                                    [key], {});\n",
              "        if (!dataTable) return;\n",
              "\n",
              "        const docLinkHtml = 'Like what you see? Visit the ' +\n",
              "          '<a target=\"_blank\" href=https://colab.research.google.com/notebooks/data_table.ipynb>data table notebook</a>'\n",
              "          + ' to learn more about interactive tables.';\n",
              "        element.innerHTML = '';\n",
              "        dataTable['output_type'] = 'display_data';\n",
              "        await google.colab.output.renderOutput(dataTable, element);\n",
              "        const docLink = document.createElement('div');\n",
              "        docLink.innerHTML = docLinkHtml;\n",
              "        element.appendChild(docLink);\n",
              "      }\n",
              "    </script>\n",
              "  </div>\n",
              "\n",
              "\n",
              "<div id=\"df-49bb7607-deb4-4b53-92ef-390e2a937810\">\n",
              "  <button class=\"colab-df-quickchart\" onclick=\"quickchart('df-49bb7607-deb4-4b53-92ef-390e2a937810')\"\n",
              "            title=\"Suggest charts\"\n",
              "            style=\"display:none;\">\n",
              "\n",
              "<svg xmlns=\"http://www.w3.org/2000/svg\" height=\"24px\"viewBox=\"0 0 24 24\"\n",
              "     width=\"24px\">\n",
              "    <g>\n",
              "        <path d=\"M19 3H5c-1.1 0-2 .9-2 2v14c0 1.1.9 2 2 2h14c1.1 0 2-.9 2-2V5c0-1.1-.9-2-2-2zM9 17H7v-7h2v7zm4 0h-2V7h2v10zm4 0h-2v-4h2v4z\"/>\n",
              "    </g>\n",
              "</svg>\n",
              "  </button>\n",
              "\n",
              "<style>\n",
              "  .colab-df-quickchart {\n",
              "      --bg-color: #E8F0FE;\n",
              "      --fill-color: #1967D2;\n",
              "      --hover-bg-color: #E2EBFA;\n",
              "      --hover-fill-color: #174EA6;\n",
              "      --disabled-fill-color: #AAA;\n",
              "      --disabled-bg-color: #DDD;\n",
              "  }\n",
              "\n",
              "  [theme=dark] .colab-df-quickchart {\n",
              "      --bg-color: #3B4455;\n",
              "      --fill-color: #D2E3FC;\n",
              "      --hover-bg-color: #434B5C;\n",
              "      --hover-fill-color: #FFFFFF;\n",
              "      --disabled-bg-color: #3B4455;\n",
              "      --disabled-fill-color: #666;\n",
              "  }\n",
              "\n",
              "  .colab-df-quickchart {\n",
              "    background-color: var(--bg-color);\n",
              "    border: none;\n",
              "    border-radius: 50%;\n",
              "    cursor: pointer;\n",
              "    display: none;\n",
              "    fill: var(--fill-color);\n",
              "    height: 32px;\n",
              "    padding: 0;\n",
              "    width: 32px;\n",
              "  }\n",
              "\n",
              "  .colab-df-quickchart:hover {\n",
              "    background-color: var(--hover-bg-color);\n",
              "    box-shadow: 0 1px 2px rgba(60, 64, 67, 0.3), 0 1px 3px 1px rgba(60, 64, 67, 0.15);\n",
              "    fill: var(--button-hover-fill-color);\n",
              "  }\n",
              "\n",
              "  .colab-df-quickchart-complete:disabled,\n",
              "  .colab-df-quickchart-complete:disabled:hover {\n",
              "    background-color: var(--disabled-bg-color);\n",
              "    fill: var(--disabled-fill-color);\n",
              "    box-shadow: none;\n",
              "  }\n",
              "\n",
              "  .colab-df-spinner {\n",
              "    border: 2px solid var(--fill-color);\n",
              "    border-color: transparent;\n",
              "    border-bottom-color: var(--fill-color);\n",
              "    animation:\n",
              "      spin 1s steps(1) infinite;\n",
              "  }\n",
              "\n",
              "  @keyframes spin {\n",
              "    0% {\n",
              "      border-color: transparent;\n",
              "      border-bottom-color: var(--fill-color);\n",
              "      border-left-color: var(--fill-color);\n",
              "    }\n",
              "    20% {\n",
              "      border-color: transparent;\n",
              "      border-left-color: var(--fill-color);\n",
              "      border-top-color: var(--fill-color);\n",
              "    }\n",
              "    30% {\n",
              "      border-color: transparent;\n",
              "      border-left-color: var(--fill-color);\n",
              "      border-top-color: var(--fill-color);\n",
              "      border-right-color: var(--fill-color);\n",
              "    }\n",
              "    40% {\n",
              "      border-color: transparent;\n",
              "      border-right-color: var(--fill-color);\n",
              "      border-top-color: var(--fill-color);\n",
              "    }\n",
              "    60% {\n",
              "      border-color: transparent;\n",
              "      border-right-color: var(--fill-color);\n",
              "    }\n",
              "    80% {\n",
              "      border-color: transparent;\n",
              "      border-right-color: var(--fill-color);\n",
              "      border-bottom-color: var(--fill-color);\n",
              "    }\n",
              "    90% {\n",
              "      border-color: transparent;\n",
              "      border-bottom-color: var(--fill-color);\n",
              "    }\n",
              "  }\n",
              "</style>\n",
              "\n",
              "  <script>\n",
              "    async function quickchart(key) {\n",
              "      const quickchartButtonEl =\n",
              "        document.querySelector('#' + key + ' button');\n",
              "      quickchartButtonEl.disabled = true;  // To prevent multiple clicks.\n",
              "      quickchartButtonEl.classList.add('colab-df-spinner');\n",
              "      try {\n",
              "        const charts = await google.colab.kernel.invokeFunction(\n",
              "            'suggestCharts', [key], {});\n",
              "      } catch (error) {\n",
              "        console.error('Error during call to suggestCharts:', error);\n",
              "      }\n",
              "      quickchartButtonEl.classList.remove('colab-df-spinner');\n",
              "      quickchartButtonEl.classList.add('colab-df-quickchart-complete');\n",
              "    }\n",
              "    (() => {\n",
              "      let quickchartButtonEl =\n",
              "        document.querySelector('#df-49bb7607-deb4-4b53-92ef-390e2a937810 button');\n",
              "      quickchartButtonEl.style.display =\n",
              "        google.colab.kernel.accessAllowed ? 'block' : 'none';\n",
              "    })();\n",
              "  </script>\n",
              "</div>\n",
              "    </div>\n",
              "  </div>\n"
            ]
          },
          "metadata": {},
          "execution_count": 41
        }
      ],
      "source": [
        "## parameters  key and bpm have a least 20% infulence over the songs streams\n",
        "# predict key and bpm regargding all the other parameters\n",
        "import pandas as pd\n",
        "import numpy as np\n",
        "from sklearn.metrics import mean_squared_error\n",
        "from sklearn.metrics import accuracy_score\n",
        "from sklearn.model_selection import train_test_split\n",
        "from sklearn.linear_model import LinearRegression\n",
        "import matplotlib.pyplot as plt\n",
        "from sklearn.metrics import mean_squared_error\n",
        "from sklearn.neural_network import MLPRegressor\n",
        "from sklearn.neural_network import MLPClassifier\n",
        "from sklearn.preprocessing import PolynomialFeatures\n",
        "from sklearn.linear_model import LinearRegression\n",
        "from sklearn.metrics import mean_squared_error\n",
        "from sklearn.linear_model import LogisticRegression\n",
        "from sklearn.preprocessing import LabelEncoder\n",
        "from sklearn.preprocessing import StandardScaler\n",
        "from sklearn.model_selection import cross_validate\n",
        "from sklearn.model_selection import cross_val_score\n",
        "from sklearn.metrics import mean_absolute_error\n",
        "from sklearn.metrics import r2_score\n",
        "from sklearn.svm import SVR\n",
        "from datetime import date\n",
        "from sklearn import svm\n",
        "\n",
        "\n",
        "data = pd.read_csv('/content/drive/MyDrive/AGH/PythonForMLGoogleColab/MAIN_DATASET_spotify2023.csv')\n",
        "\n",
        "\n",
        "data.head()\n",
        "encoder = LabelEncoder()\n",
        "data[\"key\"] = encoder.fit_transform(data[\"key\"])\n",
        "data[\"mode\"] = encoder.fit_transform(data[\"mode\"])\n",
        "released_day_of_year = []\n",
        "\n",
        "for i in range(len(data.index)):\n",
        "    day_of_year = date(data['released_year'][i],\n",
        "                    data['released_month'][i],\n",
        "                    data['released_day'][i]).timetuple().tm_yday\n",
        "    released_day_of_year.append(day_of_year)\n",
        "\n",
        "# add new series to dataframe\n",
        "data.insert(len(data.columns), \"released_day_of_year\", released_day_of_year, True)\n",
        "\n",
        "data = data[[\"released_day_of_year\", 'bpm','key', 'mode', 'danceability_%', 'valence_%', 'energy_%','acousticness_%', 'instrumentalness_%', 'liveness_%', 'speechiness_%']]\n",
        "\n",
        "\n",
        "data"
      ]
    },
    {
      "cell_type": "code",
      "source": [
        "from google.colab import drive\n",
        "drive.mount('/content/drive')"
      ],
      "metadata": {
        "colab": {
          "base_uri": "https://localhost:8080/"
        },
        "id": "FuaK1KerNRK8",
        "outputId": "a1bb2dab-15fc-4180-a6c9-de8d611afb11"
      },
      "id": "FuaK1KerNRK8",
      "execution_count": null,
      "outputs": [
        {
          "output_type": "stream",
          "name": "stdout",
          "text": [
            "Mounted at /content/drive\n"
          ]
        }
      ]
    },
    {
      "cell_type": "code",
      "execution_count": 42,
      "id": "2a50b4a1",
      "metadata": {
        "colab": {
          "base_uri": "https://localhost:8080/"
        },
        "id": "2a50b4a1",
        "outputId": "247df2cd-bb8d-482a-d5b8-f2b302e2a746"
      },
      "outputs": [
        {
          "output_type": "stream",
          "name": "stdout",
          "text": [
            "Percent of Train: 60.0% and Test dataset: 40.0% \n"
          ]
        }
      ],
      "source": [
        "X = data.drop([\"bpm\", \"key\"], axis = 1)\n",
        "y = data[\"bpm\"]\n",
        "\n",
        "train_ratio = 0.6\n",
        "test_ratio = 0.4\n",
        "SEED = 42\n",
        "\n",
        "x_train, x_test, y_train, y_test = train_test_split(X, y, test_size=1 - train_ratio, random_state=SEED)\n",
        "\n",
        "print(f\"Percent of Train: {train_ratio*100}% and Test dataset: {test_ratio*100}% \")"
      ]
    },
    {
      "cell_type": "markdown",
      "id": "478af46f",
      "metadata": {
        "id": "478af46f"
      },
      "source": [
        "## Task 1,2"
      ]
    },
    {
      "cell_type": "code",
      "execution_count": 12,
      "id": "46648798",
      "metadata": {
        "colab": {
          "base_uri": "https://localhost:8080/"
        },
        "id": "46648798",
        "outputId": "166bf679-fac8-473f-825f-8b79829fe11b"
      },
      "outputs": [
        {
          "output_type": "stream",
          "name": "stdout",
          "text": [
            "mean of 3-folds cross_validation: 27.23594362909591\n",
            "mean of 5-folds cross_validation: 27.123959238772443\n",
            "mean of 10-folds cross_validation: 27.109408194043617\n",
            "\n",
            "Rmse_test: 28.842758338892928, Mean_test:  831.9047085957775\n",
            "Rmse: 26.60437794888637, Mean:  707.7929260471914\n"
          ]
        }
      ],
      "source": [
        "reg = LinearRegression()\n",
        "weights_train = np.ones_like(y_train)\n",
        "np.random.seed(42)\n",
        "random_weights = np.random.rand(len(y_train))\n",
        "\n",
        "reg.fit(x_train, y_train, sample_weight=weights_train)\n",
        "y_pred_train = reg.predict(x_train)\n",
        "y_pred_test = reg.predict(x_test)\n",
        "\n",
        "cv_values = [3,5,10]\n",
        "for k in cv_values:\n",
        "    scores = cross_val_score(reg, x_train, y_train, cv=k, scoring='neg_root_mean_squared_error')\n",
        "    #print(scores)\n",
        "    mean_cross = scores.mean()\n",
        "    # chcek if minus is good for rmse without negative\n",
        "    print(f\"mean of {k}-folds cross_validation: {-mean_cross}\")\n",
        "\n",
        "rmse_test = np.sqrt(np.mean((y_pred_test - y_test)**2))\n",
        "mean_test = mean_squared_error(y_test, y_pred_test)\n",
        "\n",
        "rmse = np.sqrt(np.mean((y_pred_train - y_train)**2))\n",
        "mean = mean_squared_error(y_train, y_pred_train)\n",
        "print(f\"\\nRmse_test: {rmse_test}, Mean_test:  {mean_test}\")\n",
        "print(f\"Rmse: {rmse}, Mean:  {mean}\")"
      ]
    },
    {
      "cell_type": "markdown",
      "id": "823a22bb",
      "metadata": {
        "id": "823a22bb"
      },
      "source": [
        "##  Task3 neural regresor"
      ]
    },
    {
      "cell_type": "code",
      "execution_count": 14,
      "id": "d80e20f7",
      "metadata": {
        "colab": {
          "base_uri": "https://localhost:8080/"
        },
        "id": "d80e20f7",
        "outputId": "1a609c86-b997-46a4-f16a-f87eac797ab3"
      },
      "outputs": [
        {
          "output_type": "stream",
          "name": "stdout",
          "text": [
            "mean of 3-folds cross_validation: 27.404914101734814\n",
            "mean of 5-folds cross_validation: 27.363923543984093\n",
            "mean of 10-folds cross_validation: 27.289784265368432\n",
            "\n",
            "Rmse_test: 29.05092878503223, Mean_test:  843.9564632730143\n",
            "Rmse: 27.370891136694446, Mean:  749.1656816167786\n"
          ]
        }
      ],
      "source": [
        "reg = MLPRegressor(hidden_layer_sizes=(5, 6, 5), random_state=50, max_iter=50, solver='lbfgs')\n",
        "reg.fit(x_train, y_train)\n",
        "y_pred_train = reg.predict(x_train)\n",
        "y_pred_test = reg.predict(x_test)\n",
        "\n",
        "cv_values = [3,5,10]\n",
        "for k in cv_values:\n",
        "    scores = cross_val_score(reg, x_train, y_train, cv=k, scoring='neg_root_mean_squared_error')\n",
        "    #print(scores)\n",
        "    mean_cross = scores.mean()\n",
        "    # chcek if minus is good for rmse without negative\n",
        "    print(f\"mean of {k}-folds cross_validation: {-mean_cross}\")\n",
        "\n",
        "rmse_test = np.sqrt(np.mean((y_pred_test - y_test)**2))\n",
        "mean_test = mean_squared_error(y_test, y_pred_test)\n",
        "\n",
        "rmse = np.sqrt(np.mean((y_pred_train - y_train)**2))\n",
        "mean = mean_squared_error(y_train, y_pred_train)\n",
        "print(f\"\\nRmse_test: {rmse_test}, Mean_test:  {mean_test}\")\n",
        "print(f\"Rmse: {rmse}, Mean:  {mean}\")"
      ]
    },
    {
      "cell_type": "markdown",
      "id": "ec294116",
      "metadata": {
        "id": "ec294116"
      },
      "source": [
        "## Grid Search"
      ]
    },
    {
      "cell_type": "code",
      "execution_count": null,
      "id": "0f151cee",
      "metadata": {
        "colab": {
          "base_uri": "https://localhost:8080/"
        },
        "id": "0f151cee",
        "outputId": "44022a8f-20f1-4085-881b-98c01a0a33e8"
      },
      "outputs": [
        {
          "output_type": "stream",
          "name": "stdout",
          "text": [
            "{'hidden_layer_sizes': (5, 5), 'max_iter': 800, 'random_state': 100, 'solver': 'lbfgs'}\n",
            "MLPRegressor(hidden_layer_sizes=(5, 5), max_iter=800, random_state=100,\n",
            "             solver='lbfgs')\n",
            "-26.98434127317869\n"
          ]
        }
      ],
      "source": [
        "parameters = {'max_iter' : [50,100,150,400,800],'solver':('lbfgs', 'sgd', 'adam'), 'hidden_layer_sizes':[(10, 5, 5), (5, 10, 5), (5, 5, 10),(5,5), (5,10)], \"random_state\" :[50,100,150,200]}\n",
        "#parameters = {'solver':('lbfgs', 'sgd', 'adam'),  \"random_state\" :[50]}\n",
        "grid_search = GridSearchCV(reg, parameters, cv=5, scoring='neg_root_mean_squared_error')\n",
        "grid_search.fit(x_train, y_train)\n",
        "print(grid_search.best_params_) # to get the best parameters\n",
        "print(grid_search.best_estimator_)\n",
        "print(grid_search.best_score_)# to get the best estimator\n",
        "#print(grid_search.cv_results_) # to get all results"
      ]
    },
    {
      "cell_type": "markdown",
      "id": "822d3fcf",
      "metadata": {
        "id": "822d3fcf"
      },
      "source": [
        "## Random Search"
      ]
    },
    {
      "cell_type": "code",
      "execution_count": null,
      "id": "33c36150",
      "metadata": {
        "colab": {
          "base_uri": "https://localhost:8080/"
        },
        "id": "33c36150",
        "outputId": "b791b262-a543-4bf9-ab19-605ceb1cd8d7"
      },
      "outputs": [
        {
          "output_type": "stream",
          "name": "stdout",
          "text": [
            "{'alpha': 0.6970343976123257, 'solver': 'lbfgs'}\n",
            "MLPRegressor(alpha=0.6970343976123257, hidden_layer_sizes=(5, 5), max_iter=800,\n",
            "             random_state=100, solver='lbfgs')\n",
            "-27.29305473730208\n"
          ]
        }
      ],
      "source": [
        "\n",
        "logistic = MLPRegressor(hidden_layer_sizes=(5, 5), random_state=100, max_iter = 800, solver = 'lbfgs')\n",
        "distributions = dict(alpha=uniform(loc=0, scale=8), solver =['lbfgs', 'sgd', 'adam'])\n",
        "Random_search = RandomizedSearchCV(logistic, distributions, random_state=0, scoring='neg_root_mean_squared_error')\n",
        "Random_search.fit(x_train, y_train)\n",
        "print(Random_search.best_params_) # to get the best parameters\n",
        "print(Random_search.best_estimator_)\n",
        "print(Random_search.best_score_)"
      ]
    },
    {
      "cell_type": "markdown",
      "id": "6f3e3f23",
      "metadata": {
        "id": "6f3e3f23"
      },
      "source": [
        "## Task 4  Polynomial reggresor"
      ]
    },
    {
      "cell_type": "code",
      "execution_count": 23,
      "id": "e7ff166b",
      "metadata": {
        "colab": {
          "base_uri": "https://localhost:8080/"
        },
        "id": "e7ff166b",
        "outputId": "834e75a3-a260-48c0-9632-5d83c2abf1f5"
      },
      "outputs": [
        {
          "output_type": "stream",
          "name": "stdout",
          "text": [
            "mean of 3-folds cross_validation: 27.23594362909591\n",
            "mean of 5-folds cross_validation: 27.123959238772443\n",
            "mean of 10-folds cross_validation: 27.109408194043617\n",
            "\n",
            "r2: 0.014351357832488287\n",
            "mean_abs_error: -22.200058706395225\n",
            "\n",
            "Rmse_test: 28.842758338892928, Mean_test:  831.9047085957776\n",
            "Rmse: 26.60437794888637, Mean:  707.7929260471914\n"
          ]
        }
      ],
      "source": [
        "# Create polynomial features\n",
        "poly_features = PolynomialFeatures(degree = 1)\n",
        "X_train_poly = poly_features.fit_transform(x_train)\n",
        "X_test_poly = poly_features.fit_transform(x_test)\n",
        "\n",
        "reg = LinearRegression()\n",
        "reg.fit(X_train_poly, y_train)\n",
        "\n",
        "y_pred_train = reg.predict(X_train_poly)\n",
        "y_pred_test = reg.predict(X_test_poly)\n",
        "\n",
        "rmse_test = np.sqrt(np.mean((y_pred_test - y_test)**2))\n",
        "mean_test = mean_squared_error(y_test, y_pred_test)\n",
        "\n",
        "cv_values = [3,5,10]\n",
        "for k in cv_values:\n",
        "    scores_val_score = cross_val_score(reg, x_train, y_train, cv=k, scoring='neg_root_mean_squared_error')\n",
        "    #print(scores)\n",
        "    mean_cross = scores_val_score.mean()\n",
        "    # chcek if minus is good for rmse without negative\n",
        "    print(f\"mean of {k}-folds cross_validation: {-mean_cross}\")\n",
        "\n",
        "\n",
        "scores = cross_validate(reg, x_train, y_train, cv=5,scoring=['r2','neg_mean_absolute_error'])\n",
        "print(f\"\\nr2: {scores['test_r2'].mean()}\")\n",
        "print(f\"mean_abs_error: {scores['test_neg_mean_absolute_error'].mean()}\")\n",
        "#print(scores['fit_time'])\n",
        "#print(scores['score_time'])\n",
        "\n",
        "\n",
        "rmse = np.sqrt(np.mean((y_pred_train - y_train)**2))\n",
        "mean = mean_squared_error(y_train, y_pred_train)\n",
        "\n",
        "print(f\"\\nRmse_test: {rmse_test}, Mean_test:  {mean_test}\")\n",
        "print(f\"Rmse: {rmse}, Mean:  {mean}\")"
      ]
    },
    {
      "cell_type": "markdown",
      "id": "bf481641",
      "metadata": {
        "id": "bf481641"
      },
      "source": [
        "## SVM"
      ]
    },
    {
      "cell_type": "code",
      "execution_count": 34,
      "id": "201ac119",
      "metadata": {
        "colab": {
          "base_uri": "https://localhost:8080/"
        },
        "id": "201ac119",
        "outputId": "0a69b52f-bc50-4cbd-cf9c-42e0f14b6f9c"
      },
      "outputs": [
        {
          "output_type": "stream",
          "name": "stdout",
          "text": [
            "mean of 3-folds cross_validation rmse: 36.00962990215475\n",
            "mean of 5-folds cross_validation rmse: 37.21434069018197\n"
          ]
        },
        {
          "output_type": "stream",
          "name": "stdout",
          "text": [
            "mean of 10-folds cross_validation rmse: 35.122001603216454\n",
            "\n",
            "r2: -0.9071553276688897\n",
            "mean_abs_error: -30.029557821233396\n",
            "\n",
            "Rmse_test: 37.6477383211208, Mean_test:  1417.3522006955873\n",
            "Rmse: 38.48223179591446, Mean:  1480.8821639944895\n",
            "\n",
            "Mean Absolute Error: 29.588285161912932\n"
          ]
        },
        {
          "output_type": "stream",
          "name": "stderr",
          "text": [
            "/usr/local/lib/python3.10/dist-packages/sklearn/svm/_base.py:299: ConvergenceWarning: Solver terminated early (max_iter=50).  Consider pre-processing your data with StandardScaler or MinMaxScaler.\n",
            "  warnings.warn(\n",
            "/usr/local/lib/python3.10/dist-packages/sklearn/svm/_base.py:299: ConvergenceWarning: Solver terminated early (max_iter=50).  Consider pre-processing your data with StandardScaler or MinMaxScaler.\n",
            "  warnings.warn(\n",
            "/usr/local/lib/python3.10/dist-packages/sklearn/svm/_base.py:299: ConvergenceWarning: Solver terminated early (max_iter=50).  Consider pre-processing your data with StandardScaler or MinMaxScaler.\n",
            "  warnings.warn(\n",
            "/usr/local/lib/python3.10/dist-packages/sklearn/svm/_base.py:299: ConvergenceWarning: Solver terminated early (max_iter=50).  Consider pre-processing your data with StandardScaler or MinMaxScaler.\n",
            "  warnings.warn(\n",
            "/usr/local/lib/python3.10/dist-packages/sklearn/svm/_base.py:299: ConvergenceWarning: Solver terminated early (max_iter=50).  Consider pre-processing your data with StandardScaler or MinMaxScaler.\n",
            "  warnings.warn(\n"
          ]
        }
      ],
      "source": [
        "\n",
        "# Kernels: {‘linear’, ‘poly’, ‘rbf’, ‘sigmoid’, ‘precomputed’}\n",
        "#linear the best but the longest so most complicated\n",
        "\n",
        "reg = SVR(C=3, epsilon=0.2, kernel='poly', max_iter=50)\n",
        "reg.fit(x_train, y_train)\n",
        "\n",
        "y_pred_train = reg.predict(x_train)\n",
        "y_pred_test = reg.predict(x_test)\n",
        "\n",
        "rmse_test = np.sqrt(np.mean((y_pred_test - y_test)**2))\n",
        "mean_test = mean_squared_error(y_test, y_pred_test)\n",
        "\n",
        "cv_values = [3,5,10]\n",
        "for k in cv_values:\n",
        "    scores_val_score = cross_val_score(reg, x_train, y_train, cv=k, scoring='neg_root_mean_squared_error')\n",
        "    #print(scores)\n",
        "    mean_cross = scores_val_score.mean()\n",
        "    # chcek if minus is good for rmse without negative\n",
        "    print(f\"mean of {k}-folds cross_validation rmse: {-mean_cross}\")\n",
        "\n",
        "scores = cross_validate(reg, x_train, y_train, cv=5,scoring=['r2','neg_mean_absolute_error'])\n",
        "\n",
        "print(f\"\\nr2: {scores['test_r2'].mean()}\")\n",
        "print(f\"mean_abs_error: {scores['test_neg_mean_absolute_error'].mean()}\")\n",
        "\n",
        "\n",
        "rmse = np.sqrt(np.mean((y_pred_train - y_train)**2))\n",
        "mean = mean_squared_error(y_train, y_pred_train)\n",
        "\n",
        "print(f\"\\nRmse_test: {rmse_test}, Mean_test:  {mean_test}\")\n",
        "print(f\"Rmse: {rmse}, Mean:  {mean}\")\n",
        "\n",
        "mae = mean_absolute_error(y_test, y_pred_test)\n",
        "print(\"\\nMean Absolute Error:\", mae)\n",
        "\n"
      ]
    },
    {
      "cell_type": "code",
      "execution_count": null,
      "id": "c0979855",
      "metadata": {
        "colab": {
          "base_uri": "https://localhost:8080/"
        },
        "id": "c0979855",
        "outputId": "52f41d2b-9835-425d-a248-72a1163cab5d"
      },
      "outputs": [
        {
          "output_type": "stream",
          "name": "stdout",
          "text": [
            "{'kernel': 'rbf', 'max_iter': 400}\n",
            "SVR(C=2, epsilon=0.2, max_iter=400)\n",
            "-27.219170513708185\n"
          ]
        }
      ],
      "source": [
        "#GridSearch\n",
        "parameters = {'max_iter' : [50,100,150,400,800],'kernel':('linear', 'poly', 'rbf', 'sigmoid')}\n",
        "#parameters = {'solver':('lbfgs', 'sgd', 'adam'),  \"random_state\" :[50]}\n",
        "grid_search = GridSearchCV(reg, parameters, cv=5, scoring='neg_root_mean_squared_error')\n",
        "grid_search.fit(x_train, y_train)\n",
        "\n",
        "print(grid_search.best_params_) # to get the best parameters\n",
        "print(grid_search.best_estimator_)\n",
        "print(grid_search.best_score_)# to get the best estimator\n",
        "#print(grid_search.cv_results_) # to get all results\n"
      ]
    },
    {
      "cell_type": "code",
      "execution_count": null,
      "id": "f86853c8",
      "metadata": {
        "colab": {
          "base_uri": "https://localhost:8080/"
        },
        "id": "f86853c8",
        "outputId": "387b6ceb-788f-4e55-eb34-4be8a05f3a5d"
      },
      "outputs": [
        {
          "output_type": "stream",
          "name": "stdout",
          "text": [
            "{'C': 7.9915856421672355, 'coef0': 4.6147936225293185, 'epsilon': 7.805291762864554}\n",
            "SVR(C=7.9915856421672355, coef0=4.6147936225293185, degree=2,\n",
            "    epsilon=7.805291762864554, max_iter=400)\n",
            "-27.10507511107233\n"
          ]
        }
      ],
      "source": [
        "#RandomSearch\n",
        "logistic = SVR( epsilon=0.2, kernel='rbf', max_iter=400, degree = 2)\n",
        "distributions = dict(C=uniform(loc=0, scale=10), coef0 =uniform(loc=0, scale=10), epsilon= uniform(loc=0, scale=10))\n",
        "Random_search = RandomizedSearchCV(logistic, distributions, random_state=0, scoring='neg_root_mean_squared_error')\n",
        "Random_search.fit(x_train, y_train)\n",
        "print(Random_search.best_params_) # to get the best parameters\n",
        "print(Random_search.best_estimator_)\n",
        "print(Random_search.best_score_)"
      ]
    },
    {
      "cell_type": "markdown",
      "id": "4f1dcd76",
      "metadata": {
        "id": "4f1dcd76"
      },
      "source": [
        "## SVM model with best  parameters"
      ]
    },
    {
      "cell_type": "code",
      "execution_count": 43,
      "id": "fd9e2bb2",
      "metadata": {
        "colab": {
          "base_uri": "https://localhost:8080/"
        },
        "id": "fd9e2bb2",
        "outputId": "fe3314db-a3d1-487b-b385-5069e6d5d115"
      },
      "outputs": [
        {
          "output_type": "stream",
          "name": "stdout",
          "text": [
            "\n",
            "Mean Absolute Error: 23.581219644853615\n",
            "\n",
            "R2: 0.01408278476049396\n"
          ]
        }
      ],
      "source": [
        "reg = LinearRegression()\n",
        "weights_train = np.ones_like(y_train)\n",
        "np.random.seed(42)\n",
        "random_weights = np.random.rand(len(y_train))\n",
        "\n",
        "reg.fit(x_train, y_train, sample_weight=weights_train)\n",
        "\n",
        "y_pred_train = reg.predict(x_train)\n",
        "y_pred = reg.predict(x_test)\n",
        "\n",
        "mae = mean_absolute_error(y_test, y_pred)\n",
        "print(\"\\nMean Absolute Error:\", mae)\n",
        "\n",
        "r2 = r2_score(y_test, y_pred)\n",
        "print(\"\\nR2:\", r2)"
      ]
    },
    {
      "cell_type": "markdown",
      "id": "5b1c3cee",
      "metadata": {
        "id": "5b1c3cee"
      },
      "source": [
        "# Final Assessment of the model"
      ]
    },
    {
      "cell_type": "code",
      "execution_count": 44,
      "id": "44b4bd3d",
      "metadata": {
        "colab": {
          "base_uri": "https://localhost:8080/",
          "height": 899
        },
        "id": "44b4bd3d",
        "outputId": "505fb471-ba66-46ad-b8e7-6ae9087c5fc0"
      },
      "outputs": [
        {
          "output_type": "execute_result",
          "data": {
            "text/plain": [
              "<sklearn.metrics._plot.regression.PredictionErrorDisplay at 0x78e0200f1000>"
            ]
          },
          "metadata": {},
          "execution_count": 44
        },
        {
          "output_type": "display_data",
          "data": {
            "text/plain": [
              "<Figure size 640x480 with 1 Axes>"
            ],
            "image/png": "[encoded data removed]"
          },
          "metadata": {}
        },
        {
          "output_type": "display_data",
          "data": {
            "text/plain": [
              "<Figure size 640x480 with 1 Axes>"
            ],
            "image/png": "[encoded data removed]"
          },
          "metadata": {}
        }
      ],
      "source": [
        "from sklearn.metrics import PredictionErrorDisplay\n",
        "from sklearn.metrics import confusion_matrix\n",
        "PredictionErrorDisplay.from_estimator(reg, x_test, y_test,\n",
        "kind=\"residual_vs_predicted\")\n",
        "PredictionErrorDisplay.from_predictions(y_true=y_test, y_pred=y_pred,\n",
        "kind=\"actual_vs_predicted\")\n"
      ]
    },
    {
      "cell_type": "markdown",
      "id": "e507e1c3",
      "metadata": {
        "id": "e507e1c3"
      },
      "source": [
        "## Pipeline"
      ]
    },
    {
      "cell_type": "code",
      "execution_count": 47,
      "id": "117877e0",
      "metadata": {
        "colab": {
          "base_uri": "https://localhost:8080/"
        },
        "id": "117877e0",
        "outputId": "794a1b40-32b4-4128-956a-f1b1a4152f08"
      },
      "outputs": [
        {
          "output_type": "stream",
          "name": "stdout",
          "text": [
            "Accuracy train: 1.0, accuracy test: 0.026246719160104987\n"
          ]
        }
      ],
      "source": [
        "from sklearn.pipeline import Pipeline\n",
        "from sklearn.preprocessing import StandardScaler\n",
        "clf_mlp1 = Pipeline([(\"scaler\", StandardScaler()), (\"mlp\", MLPClassifier(max_iter=5000, random_state=1, solver='adam', alpha =0.0001))])\n",
        "clf_mlp1.fit(x_train, y_train)\n",
        "\n",
        "y_pred_train = clf_mlp1.predict(x_train)\n",
        "y_pred_test = clf_mlp1.predict(x_test)\n",
        "\n",
        "\n",
        "acc_train = accuracy_score(y_train, y_pred_train)\n",
        "acc_test = accuracy_score(y_test, y_pred_test)\n",
        "print(f\"Accuracy train: {acc_train}, accuracy test: {acc_test}\")\n"
      ]
    }
  ],
  "metadata": {
    "kernelspec": {
      "display_name": "Python 3 (ipykernel)",
      "language": "python",
      "name": "python3"
    },
    "language_info": {
      "codemirror_mode": {
        "name": "ipython",
        "version": 3
      },
      "file_extension": ".py",
      "mimetype": "text/x-python",
      "name": "python",
      "nbconvert_exporter": "python",
      "pygments_lexer": "ipython3",
      "version": "3.9.16"
    },
    "colab": {
      "provenance": []
    }
  },
  "nbformat": 4,
  "nbformat_minor": 5
}
